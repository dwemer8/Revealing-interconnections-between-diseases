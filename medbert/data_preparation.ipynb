{
 "cells": [
  {
   "cell_type": "code",
   "execution_count": null,
   "id": "d1fcc06d-8e03-43f8-be7f-043350dc27ef",
   "metadata": {
    "tags": []
   },
   "outputs": [],
   "source": [
    "%pip install simple-icd-10"
   ]
  },
  {
   "cell_type": "code",
   "execution_count": 2,
   "id": "2bbfe5f5-fca4-45fd-8184-77ef33afd148",
   "metadata": {
    "execution": {
     "iopub.execute_input": "2025-07-19T15:56:07.651918Z",
     "iopub.status.busy": "2025-07-19T15:56:07.651063Z",
     "iopub.status.idle": "2025-07-19T15:56:09.359191Z",
     "shell.execute_reply": "2025-07-19T15:56:09.358526Z",
     "shell.execute_reply.started": "2025-07-19T15:56:07.651879Z"
    },
    "tags": []
   },
   "outputs": [
    {
     "name": "stdout",
     "output_type": "stream",
     "text": [
      "Defaulting to user installation because normal site-packages is not writeable\n",
      "Requirement already satisfied: icdmap in /home/jupyter/.local/lib/python3.10/site-packages (0.1.1)\n",
      "Requirement already satisfied: pandas in /home/jupyter/.local/lib/python3.10/site-packages (from icdmap) (2.3.1)\n",
      "Requirement already satisfied: tqdm in /usr/local/lib/python3.10/dist-packages (from icdmap) (4.65.0)\n",
      "Requirement already satisfied: numpy>=1.22.4 in /home/jupyter/.local/lib/python3.10/site-packages (from pandas->icdmap) (1.26.4)\n",
      "Requirement already satisfied: python-dateutil>=2.8.2 in /usr/local/lib/python3.10/dist-packages (from pandas->icdmap) (2.8.2)\n",
      "Requirement already satisfied: pytz>=2020.1 in /usr/local/lib/python3.10/dist-packages (from pandas->icdmap) (2022.7.1)\n",
      "Requirement already satisfied: tzdata>=2022.7 in /usr/local/lib/python3.10/dist-packages (from pandas->icdmap) (2023.3)\n",
      "Requirement already satisfied: six>=1.5 in /usr/lib/python3/dist-packages (from python-dateutil>=2.8.2->pandas->icdmap) (1.16.0)\n",
      "\n",
      "\u001b[1m[\u001b[0m\u001b[34;49mnotice\u001b[0m\u001b[1;39;49m]\u001b[0m\u001b[39;49m A new release of pip is available: \u001b[0m\u001b[31;49m23.0.1\u001b[0m\u001b[39;49m -> \u001b[0m\u001b[32;49m25.1.1\u001b[0m\n",
      "\u001b[1m[\u001b[0m\u001b[34;49mnotice\u001b[0m\u001b[1;39;49m]\u001b[0m\u001b[39;49m To update, run: \u001b[0m\u001b[32;49mpython3 -m pip install --upgrade pip\u001b[0m\n"
     ]
    }
   ],
   "source": [
    "%pip install icdmap"
   ]
  },
  {
   "cell_type": "code",
   "execution_count": 1,
   "id": "083ba322-15c2-4510-8a32-ffa5efc3a5f2",
   "metadata": {
    "execution": {
     "iopub.execute_input": "2025-07-19T12:44:06.597791Z",
     "iopub.status.busy": "2025-07-19T12:44:06.597127Z",
     "iopub.status.idle": "2025-07-19T12:44:06.658570Z",
     "shell.execute_reply": "2025-07-19T12:44:06.657852Z",
     "shell.execute_reply.started": "2025-07-19T12:44:06.597758Z"
    },
    "tags": []
   },
   "outputs": [],
   "source": [
    "import pandas as pd\n",
    "import numpy as np\n",
    "import os"
   ]
  },
  {
   "cell_type": "code",
   "execution_count": 2,
   "id": "1442b9c2-f2c9-4bb1-85e0-45cbdc6b3023",
   "metadata": {
    "execution": {
     "iopub.execute_input": "2025-07-19T12:44:07.167383Z",
     "iopub.status.busy": "2025-07-19T12:44:07.166383Z",
     "iopub.status.idle": "2025-07-19T12:44:07.178237Z",
     "shell.execute_reply": "2025-07-19T12:44:07.177560Z",
     "shell.execute_reply.started": "2025-07-19T12:44:07.167333Z"
    },
    "tags": []
   },
   "outputs": [],
   "source": [
    "DATA_DIR = \"../data/mimic-4\"\n",
    "TABLE = \"diagnoses_icd.csv\""
   ]
  },
  {
   "cell_type": "code",
   "execution_count": 3,
   "id": "28fd0c74-0eef-4770-8848-3f9af9575366",
   "metadata": {
    "execution": {
     "iopub.execute_input": "2025-07-19T12:44:09.435991Z",
     "iopub.status.busy": "2025-07-19T12:44:09.435048Z",
     "iopub.status.idle": "2025-07-19T12:44:11.538466Z",
     "shell.execute_reply": "2025-07-19T12:44:11.537719Z",
     "shell.execute_reply.started": "2025-07-19T12:44:09.435957Z"
    },
    "tags": []
   },
   "outputs": [],
   "source": [
    "df = pd.read_csv(os.path.join(DATA_DIR, TABLE))"
   ]
  },
  {
   "cell_type": "code",
   "execution_count": 4,
   "id": "e8bd5108-dd24-4cab-9d09-1122affb3f6b",
   "metadata": {
    "execution": {
     "iopub.execute_input": "2025-07-19T12:44:11.540869Z",
     "iopub.status.busy": "2025-07-19T12:44:11.539749Z",
     "iopub.status.idle": "2025-07-19T12:44:11.571617Z",
     "shell.execute_reply": "2025-07-19T12:44:11.570880Z",
     "shell.execute_reply.started": "2025-07-19T12:44:11.540830Z"
    },
    "tags": []
   },
   "outputs": [
    {
     "data": {
      "text/html": [
       "<div>\n",
       "<style scoped>\n",
       "    .dataframe tbody tr th:only-of-type {\n",
       "        vertical-align: middle;\n",
       "    }\n",
       "\n",
       "    .dataframe tbody tr th {\n",
       "        vertical-align: top;\n",
       "    }\n",
       "\n",
       "    .dataframe thead th {\n",
       "        text-align: right;\n",
       "    }\n",
       "</style>\n",
       "<table border=\"1\" class=\"dataframe\">\n",
       "  <thead>\n",
       "    <tr style=\"text-align: right;\">\n",
       "      <th></th>\n",
       "      <th>subject_id</th>\n",
       "      <th>hadm_id</th>\n",
       "      <th>seq_num</th>\n",
       "      <th>icd_code</th>\n",
       "      <th>icd_version</th>\n",
       "    </tr>\n",
       "  </thead>\n",
       "  <tbody>\n",
       "    <tr>\n",
       "      <th>0</th>\n",
       "      <td>10000032</td>\n",
       "      <td>22595853</td>\n",
       "      <td>1</td>\n",
       "      <td>5723</td>\n",
       "      <td>9</td>\n",
       "    </tr>\n",
       "    <tr>\n",
       "      <th>1</th>\n",
       "      <td>10000032</td>\n",
       "      <td>22595853</td>\n",
       "      <td>2</td>\n",
       "      <td>78959</td>\n",
       "      <td>9</td>\n",
       "    </tr>\n",
       "    <tr>\n",
       "      <th>2</th>\n",
       "      <td>10000032</td>\n",
       "      <td>22595853</td>\n",
       "      <td>3</td>\n",
       "      <td>5715</td>\n",
       "      <td>9</td>\n",
       "    </tr>\n",
       "    <tr>\n",
       "      <th>3</th>\n",
       "      <td>10000032</td>\n",
       "      <td>22595853</td>\n",
       "      <td>4</td>\n",
       "      <td>07070</td>\n",
       "      <td>9</td>\n",
       "    </tr>\n",
       "    <tr>\n",
       "      <th>4</th>\n",
       "      <td>10000032</td>\n",
       "      <td>22595853</td>\n",
       "      <td>5</td>\n",
       "      <td>496</td>\n",
       "      <td>9</td>\n",
       "    </tr>\n",
       "  </tbody>\n",
       "</table>\n",
       "</div>"
      ],
      "text/plain": [
       "   subject_id   hadm_id  seq_num icd_code  icd_version\n",
       "0    10000032  22595853        1     5723            9\n",
       "1    10000032  22595853        2    78959            9\n",
       "2    10000032  22595853        3     5715            9\n",
       "3    10000032  22595853        4    07070            9\n",
       "4    10000032  22595853        5      496            9"
      ]
     },
     "execution_count": 4,
     "metadata": {},
     "output_type": "execute_result"
    }
   ],
   "source": [
    "df.head()"
   ]
  },
  {
   "cell_type": "code",
   "execution_count": 7,
   "id": "df543c9c-b44d-4f03-a709-466c67881734",
   "metadata": {
    "execution": {
     "iopub.execute_input": "2025-07-19T12:45:41.831894Z",
     "iopub.status.busy": "2025-07-19T12:45:41.830927Z",
     "iopub.status.idle": "2025-07-19T12:45:42.026457Z",
     "shell.execute_reply": "2025-07-19T12:45:42.025654Z",
     "shell.execute_reply.started": "2025-07-19T12:45:41.831857Z"
    },
    "tags": []
   },
   "outputs": [
    {
     "data": {
      "text/plain": [
       "'E11.9'"
      ]
     },
     "execution_count": 7,
     "metadata": {},
     "output_type": "execute_result"
    }
   ],
   "source": [
    "from icdmap import ICDConverter\n",
    "mapper = ICDConverter()\n",
    "mapper.convert(\"250.00\")[0][\"ICD-10\"]"
   ]
  },
  {
   "cell_type": "code",
   "execution_count": 8,
   "id": "1df64bce-c6ee-4abc-aae0-be929124d126",
   "metadata": {
    "execution": {
     "iopub.execute_input": "2025-07-19T12:49:40.933101Z",
     "iopub.status.busy": "2025-07-19T12:49:40.932234Z",
     "iopub.status.idle": "2025-07-19T12:49:41.630201Z",
     "shell.execute_reply": "2025-07-19T12:49:41.629449Z",
     "shell.execute_reply.started": "2025-07-19T12:49:40.933060Z"
    },
    "tags": []
   },
   "outputs": [
    {
     "name": "stderr",
     "output_type": "stream",
     "text": [
      "ICD Mapping: 100%|██████████| 6/6 [00:00<00:00,  9.36it/s]\n"
     ]
    },
    {
     "data": {
      "text/plain": [
       "{'5723': [{'ICD-9': '572.3',\n",
       "   'ICD-10': 'K76.6',\n",
       "   'ICD-9 Chinese': '門脈高壓',\n",
       "   'ICD-9 English': 'Portal hypertension',\n",
       "   'ICD-10 Chinese': '門脈高壓',\n",
       "   'ICD-10 English': 'Portal hypertension',\n",
       "   'Mapping Code': '00000'}],\n",
       " '78959': [{'ICD-9': '78959',\n",
       "   'ICD-10': <NA>,\n",
       "   'ICD-9 Chinese': <NA>,\n",
       "   'ICD-9 English': <NA>,\n",
       "   'ICD-10 Chinese': <NA>,\n",
       "   'ICD-10 English': <NA>,\n",
       "   'Mapping Code': <NA>}],\n",
       " '5715': [{'ICD-9': '571.5',\n",
       "   'ICD-10': 'K74.0',\n",
       "   'ICD-9 Chinese': '肝硬化，未提及酒精性者',\n",
       "   'ICD-9 English': 'Cirrhosis of liver without mention of alcohol',\n",
       "   'ICD-10 Chinese': '肝纖維化',\n",
       "   'ICD-10 English': 'Hepatic fibrosis',\n",
       "   'Mapping Code': '10000'},\n",
       "  {'ICD-9': '571.5',\n",
       "   'ICD-10': 'K74.1',\n",
       "   'ICD-9 Chinese': '肝硬化，未提及酒精性者',\n",
       "   'ICD-9 English': 'Cirrhosis of liver without mention of alcohol',\n",
       "   'ICD-10 Chinese': '肝硬化',\n",
       "   'ICD-10 English': 'Hepatic sclerosis',\n",
       "   'Mapping Code': '10000'},\n",
       "  {'ICD-9': '571.5',\n",
       "   'ICD-10': 'K74.2',\n",
       "   'ICD-9 Chinese': '肝硬化，未提及酒精性者',\n",
       "   'ICD-9 English': 'Cirrhosis of liver without mention of alcohol',\n",
       "   'ICD-10 Chinese': '肝纖維化併肝硬化',\n",
       "   'ICD-10 English': 'Hepatic fibrosis with hepatic sclerosis',\n",
       "   'Mapping Code': '10000'},\n",
       "  {'ICD-9': '571.5',\n",
       "   'ICD-10': 'K74.60',\n",
       "   'ICD-9 Chinese': '肝硬化，未提及酒精性者',\n",
       "   'ICD-9 English': 'Cirrhosis of liver without mention of alcohol',\n",
       "   'ICD-10 Chinese': '肝硬化',\n",
       "   'ICD-10 English': 'Unspecified cirrhosis of liver',\n",
       "   'Mapping Code': '10000'},\n",
       "  {'ICD-9': '571.5',\n",
       "   'ICD-10': 'K74.69',\n",
       "   'ICD-9 Chinese': '肝硬化，未提及酒精性者',\n",
       "   'ICD-9 English': 'Cirrhosis of liver without mention of alcohol',\n",
       "   'ICD-10 Chinese': '其他的肝硬化',\n",
       "   'ICD-10 English': 'Other cirrhosis of liver',\n",
       "   'Mapping Code': '10000'}],\n",
       " '07070': [{'ICD-9': '07070',\n",
       "   'ICD-10': <NA>,\n",
       "   'ICD-9 Chinese': <NA>,\n",
       "   'ICD-9 English': <NA>,\n",
       "   'ICD-10 Chinese': <NA>,\n",
       "   'ICD-10 English': <NA>,\n",
       "   'Mapping Code': <NA>}],\n",
       " '496': [{'ICD-9': '496',\n",
       "   'ICD-10': 'J44.9',\n",
       "   'ICD-9 Chinese': '慢性氣道阻塞，NEC',\n",
       "   'ICD-9 English': 'Chronic airways obstruction, not elsewhere classified',\n",
       "   'ICD-10 Chinese': '慢性阻塞性肺病',\n",
       "   'ICD-10 English': 'Chronic obstructive pulmonary disease, unspecified',\n",
       "   'Mapping Code': '10000'}],\n",
       " '29680': [{'ICD-9': '296.80',\n",
       "   'ICD-10': 'F31.9',\n",
       "   'ICD-9 Chinese': '躁鬱精神病',\n",
       "   'ICD-9 English': 'Manic-depressive psychosis, unspecified',\n",
       "   'ICD-10 Chinese': '非特定的雙相情緒障礙症',\n",
       "   'ICD-10 English': 'Bipolar disorder, unspecified',\n",
       "   'Mapping Code': '10000'}]}"
      ]
     },
     "execution_count": 8,
     "metadata": {},
     "output_type": "execute_result"
    }
   ],
   "source": [
    "mapper.convert(df.loc[:5, \"icd_code\"])"
   ]
  },
  {
   "cell_type": "code",
   "execution_count": null,
   "id": "73c1de72-6ea5-449f-b1b6-3f0f187b1601",
   "metadata": {},
   "outputs": [],
   "source": [
    "import torch\n",
    "from transformers import pipeline\n",
    "\n",
    "pipeline = pipeline(\n",
    "    task=\"fill-mask\",\n",
    "    model=\"google-bert/bert-base-uncased\",\n",
    "    torch_dtype=torch.float16,\n",
    "    device=0\n",
    ")\n",
    "pipeline(\"Plants create [MASK] through a process known as photosynthesis.\")"
   ]
  },
  {
   "cell_type": "code",
   "execution_count": null,
   "id": "2a84cfda-567f-41c0-b75e-e0ba5f51eadd",
   "metadata": {},
   "outputs": [],
   "source": []
  }
 ],
 "metadata": {
  "kernelspec": {
   "display_name": "DataSphere Kernel",
   "language": "python",
   "name": "python3"
  },
  "language_info": {
   "codemirror_mode": {
    "name": "ipython",
    "version": 3
   },
   "file_extension": ".py",
   "mimetype": "text/x-python",
   "name": "python",
   "nbconvert_exporter": "python",
   "pygments_lexer": "ipython3",
   "version": "3.10.12"
  }
 },
 "nbformat": 4,
 "nbformat_minor": 5
}
