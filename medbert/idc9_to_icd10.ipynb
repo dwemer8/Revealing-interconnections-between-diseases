{
 "cells": [
  {
   "cell_type": "code",
   "execution_count": 1,
   "id": "c9844ebc-fa38-46b4-a7ba-e76f9f0f2666",
   "metadata": {},
   "outputs": [],
   "source": [
    "!source /usr/local/Ascend/ascend-toolkit/set_env.sh"
   ]
  },
  {
   "cell_type": "code",
   "execution_count": 44,
   "id": "083ba322-15c2-4510-8a32-ffa5efc3a5f2",
   "metadata": {
    "tags": []
   },
   "outputs": [],
   "source": [
    "import os\n",
    "import re\n",
    "import numpy as np\n",
    "import pandas as pd\n",
    "from IPython.display import display"
   ]
  },
  {
   "cell_type": "code",
   "execution_count": 3,
   "id": "1442b9c2-f2c9-4bb1-85e0-45cbdc6b3023",
   "metadata": {
    "tags": []
   },
   "outputs": [],
   "source": [
    "DATA_DIR = \"../data/mimic-4\"\n",
    "TABLE = \"diagnoses_icd.csv\"\n",
    "GEM = \"2018_I9gem.txt\""
   ]
  },
  {
   "cell_type": "code",
   "execution_count": 25,
   "id": "28fd0c74-0eef-4770-8848-3f9af9575366",
   "metadata": {
    "tags": []
   },
   "outputs": [],
   "source": [
    "df = pd.read_csv(os.path.join(DATA_DIR, TABLE))"
   ]
  },
  {
   "cell_type": "code",
   "execution_count": 26,
   "id": "e8bd5108-dd24-4cab-9d09-1122affb3f6b",
   "metadata": {
    "tags": []
   },
   "outputs": [
    {
     "data": {
      "text/html": [
       "<div>\n",
       "<style scoped>\n",
       "    .dataframe tbody tr th:only-of-type {\n",
       "        vertical-align: middle;\n",
       "    }\n",
       "\n",
       "    .dataframe tbody tr th {\n",
       "        vertical-align: top;\n",
       "    }\n",
       "\n",
       "    .dataframe thead th {\n",
       "        text-align: right;\n",
       "    }\n",
       "</style>\n",
       "<table border=\"1\" class=\"dataframe\">\n",
       "  <thead>\n",
       "    <tr style=\"text-align: right;\">\n",
       "      <th></th>\n",
       "      <th>subject_id</th>\n",
       "      <th>hadm_id</th>\n",
       "      <th>seq_num</th>\n",
       "      <th>icd_code</th>\n",
       "      <th>icd_version</th>\n",
       "    </tr>\n",
       "  </thead>\n",
       "  <tbody>\n",
       "    <tr>\n",
       "      <th>0</th>\n",
       "      <td>10000032</td>\n",
       "      <td>22595853</td>\n",
       "      <td>1</td>\n",
       "      <td>5723</td>\n",
       "      <td>9</td>\n",
       "    </tr>\n",
       "    <tr>\n",
       "      <th>1</th>\n",
       "      <td>10000032</td>\n",
       "      <td>22595853</td>\n",
       "      <td>2</td>\n",
       "      <td>78959</td>\n",
       "      <td>9</td>\n",
       "    </tr>\n",
       "    <tr>\n",
       "      <th>2</th>\n",
       "      <td>10000032</td>\n",
       "      <td>22595853</td>\n",
       "      <td>3</td>\n",
       "      <td>5715</td>\n",
       "      <td>9</td>\n",
       "    </tr>\n",
       "    <tr>\n",
       "      <th>3</th>\n",
       "      <td>10000032</td>\n",
       "      <td>22595853</td>\n",
       "      <td>4</td>\n",
       "      <td>07070</td>\n",
       "      <td>9</td>\n",
       "    </tr>\n",
       "    <tr>\n",
       "      <th>4</th>\n",
       "      <td>10000032</td>\n",
       "      <td>22595853</td>\n",
       "      <td>5</td>\n",
       "      <td>496</td>\n",
       "      <td>9</td>\n",
       "    </tr>\n",
       "  </tbody>\n",
       "</table>\n",
       "</div>"
      ],
      "text/plain": [
       "   subject_id   hadm_id  seq_num icd_code  icd_version\n",
       "0    10000032  22595853        1     5723            9\n",
       "1    10000032  22595853        2    78959            9\n",
       "2    10000032  22595853        3     5715            9\n",
       "3    10000032  22595853        4    07070            9\n",
       "4    10000032  22595853        5      496            9"
      ]
     },
     "execution_count": 26,
     "metadata": {},
     "output_type": "execute_result"
    }
   ],
   "source": [
    "df.head()"
   ]
  },
  {
   "cell_type": "code",
   "execution_count": 45,
   "id": "fec585d3-2cb4-42c0-9802-8bd1181aeee1",
   "metadata": {},
   "outputs": [
    {
     "data": {
      "text/plain": [
       "(6364488, 6)"
      ]
     },
     "execution_count": 45,
     "metadata": {},
     "output_type": "execute_result"
    }
   ],
   "source": [
    "df.shape"
   ]
  },
  {
   "cell_type": "markdown",
   "id": "3bf6f58b-6aa4-4087-aa5c-f127396dcabf",
   "metadata": {},
   "source": [
    "### ICD-9 to ICD-10 conversion"
   ]
  },
  {
   "cell_type": "code",
   "execution_count": 31,
   "id": "76ff1a61-17b0-4849-a31d-1178bc4f2839",
   "metadata": {},
   "outputs": [],
   "source": [
    "def read_gem(path):\n",
    "    with open(path, \"r\") as f:\n",
    "        lines = f.readlines()\n",
    "\n",
    "        def processor(s):\n",
    "            s = [x for x in s.strip().split(\" \") if x != \"\"]\n",
    "            return {\n",
    "                \"icd9\": s[0],\n",
    "                \"icd10\": s[1],\n",
    "                \"flags\": s[2]\n",
    "            }\n",
    "\n",
    "    lines = [processor(line) for line in lines]\n",
    "    gem = pd.DataFrame.from_records(lines)\n",
    "    return gem"
   ]
  },
  {
   "cell_type": "code",
   "execution_count": 32,
   "id": "4b257de9-7af3-4997-8a83-beaa953128de",
   "metadata": {},
   "outputs": [],
   "source": [
    "gem = read_gem(os.path.join(DATA_DIR, GEM))"
   ]
  },
  {
   "cell_type": "code",
   "execution_count": 33,
   "id": "9ecee57f-faab-4043-8cfd-621b2044cfbe",
   "metadata": {},
   "outputs": [
    {
     "data": {
      "text/html": [
       "<div>\n",
       "<style scoped>\n",
       "    .dataframe tbody tr th:only-of-type {\n",
       "        vertical-align: middle;\n",
       "    }\n",
       "\n",
       "    .dataframe tbody tr th {\n",
       "        vertical-align: top;\n",
       "    }\n",
       "\n",
       "    .dataframe thead th {\n",
       "        text-align: right;\n",
       "    }\n",
       "</style>\n",
       "<table border=\"1\" class=\"dataframe\">\n",
       "  <thead>\n",
       "    <tr style=\"text-align: right;\">\n",
       "      <th></th>\n",
       "      <th>icd9</th>\n",
       "      <th>icd10</th>\n",
       "      <th>flags</th>\n",
       "    </tr>\n",
       "  </thead>\n",
       "  <tbody>\n",
       "    <tr>\n",
       "      <th>0</th>\n",
       "      <td>0010</td>\n",
       "      <td>A000</td>\n",
       "      <td>00000</td>\n",
       "    </tr>\n",
       "    <tr>\n",
       "      <th>1</th>\n",
       "      <td>0011</td>\n",
       "      <td>A001</td>\n",
       "      <td>00000</td>\n",
       "    </tr>\n",
       "    <tr>\n",
       "      <th>2</th>\n",
       "      <td>0019</td>\n",
       "      <td>A009</td>\n",
       "      <td>00000</td>\n",
       "    </tr>\n",
       "    <tr>\n",
       "      <th>3</th>\n",
       "      <td>0020</td>\n",
       "      <td>A0100</td>\n",
       "      <td>10000</td>\n",
       "    </tr>\n",
       "    <tr>\n",
       "      <th>4</th>\n",
       "      <td>0021</td>\n",
       "      <td>A011</td>\n",
       "      <td>00000</td>\n",
       "    </tr>\n",
       "  </tbody>\n",
       "</table>\n",
       "</div>"
      ],
      "text/plain": [
       "   icd9  icd10  flags\n",
       "0  0010   A000  00000\n",
       "1  0011   A001  00000\n",
       "2  0019   A009  00000\n",
       "3  0020  A0100  10000\n",
       "4  0021   A011  00000"
      ]
     },
     "execution_count": 33,
     "metadata": {},
     "output_type": "execute_result"
    }
   ],
   "source": [
    "gem.head()"
   ]
  },
  {
   "cell_type": "code",
   "execution_count": 46,
   "id": "54ced311-89e4-4026-9b92-60c2950162ce",
   "metadata": {},
   "outputs": [
    {
     "data": {
      "text/plain": [
       "(24860, 5)"
      ]
     },
     "execution_count": 46,
     "metadata": {},
     "output_type": "execute_result"
    }
   ],
   "source": [
    "gem.shape"
   ]
  },
  {
   "cell_type": "code",
   "execution_count": 50,
   "id": "c709e6f0-9b50-419a-b260-ca2d86e97e9c",
   "metadata": {},
   "outputs": [],
   "source": [
    "def norm(code: str) -> str:\n",
    "    if pd.isna(code):\n",
    "        return None\n",
    "    code = re.sub(r'[\\s\\.]', '', str(code).upper())\n",
    "    if code.isdigit() and len(code) < 3:\n",
    "        code = code.zfill(3)\n",
    "    return code\n",
    "    \n",
    "def icd9_to_icd10_fuzzy(icd9: str, mapping: dict) -> str:\n",
    "    if icd9 in mapping:\n",
    "        return mapping[icd9]\n",
    "\n",
    "    code = icd9\n",
    "    while len(code) < 5:\n",
    "        code += \"0\"\n",
    "        if code in mapping:\n",
    "            return mapping[code]\n",
    "\n",
    "    desc = {k: v for k, v in mapping.items() if k.startswith(icd9)}\n",
    "    if desc:\n",
    "        for k in sorted(desc):\n",
    "            if k.endswith(\"0\"):\n",
    "                return desc[k]\n",
    "        return next(iter(desc.values()))\n",
    "    return None\n",
    "\n",
    "def icd9_to_icd10(\n",
    "    df: pd.DataFrame,\n",
    "    gem: pd.DataFrame,\n",
    "    df_icd_code_col:str=\"icd_code\",\n",
    "    df_icd_version_col:str=\"icd_version\", \n",
    "    gem_icd9_col=\"icd9\", \n",
    "    gem_icd10_col=\"icd10\"\n",
    ") -> pd.DataFrame:\n",
    "    '''\n",
    "    converts dataframe with \n",
    "    '''\n",
    "    print(\"Normalization...\")\n",
    "    gem[\"icd9_norm\"]  = gem[gem_icd9_col].apply(norm)\n",
    "    gem[\"icd10_norm\"] = gem[gem_icd10_col].apply(norm)\n",
    "    gem[\"flags\"]      = gem[\"flags\"].astype(str)\n",
    "    df[\"icd_code_norm\"] = df[df_icd_code_col].apply(norm)\n",
    "    print(\"ICD codes are normalized\")\n",
    "\n",
    "    print(\"Number of bad mappings:\", gem[\"flags\"].str[0].eq(\"7\").sum(), \"out of\", len(gem), \"let's through out them\")\n",
    "    gem_ok = gem[~gem[\"flags\"].str[0].eq(\"7\")]  \n",
    "    gem_ok[\"rank\"] = gem_ok[\"flags\"].str[0].astype(int)   \n",
    "    gem_ok = gem_ok.sort_values([\"icd9_norm\", \"rank\"])\n",
    "    MAP_9to10 = gem_ok.groupby(\"icd9_norm\")[\"icd10_norm\"].first().to_dict()\n",
    "    print(\"Mapping 9to10 is created\")\n",
    "    \n",
    "    def map_row(row):\n",
    "        if row[df_icd_version_col] == 10:\n",
    "            return row[\"icd_code_norm\"]\n",
    "        return icd9_to_icd10_fuzzy(row[\"icd_code_norm\"], MAP_9to10)\n",
    "    \n",
    "    print(\"Mapping started...\")\n",
    "    df[\"icd10_code\"] = df.apply(map_row, axis=1)\n",
    "    df.drop(columns=\"icd_code_norm\", inplace=True)\n",
    "    print(\"Mapping finished\")\n",
    "\n",
    "    n9  = (df[df_icd_version_col] == 9).sum()\n",
    "    nun = df[\"icd10_code\"].isna() & (df[df_icd_version_col] == 9)\n",
    "    print(f\"Не смаппилось ICD-9 кодов: {nun.sum()} из {n9}\")\n",
    "\n",
    "    return df"
   ]
  },
  {
   "cell_type": "code",
   "execution_count": 51,
   "id": "fb6f3981-7a34-465a-9de0-44665e7d0207",
   "metadata": {},
   "outputs": [
    {
     "name": "stdout",
     "output_type": "stream",
     "text": [
      "Normalization...\n",
      "ICD codes are normalized\n",
      "Number of bad mappings: 0 out of 24860 let's through out them\n",
      "Mapping 9to10 is created\n",
      "Mapping started...\n",
      "Mapping finished\n",
      "Не смаппилось ICD-9 кодов: 0 из 2908741\n"
     ]
    }
   ],
   "source": [
    "df = icd9_to_icd10(df, gem)"
   ]
  },
  {
   "cell_type": "markdown",
   "id": "50dd19f6-c5ff-4288-87f9-a35c98988cd2",
   "metadata": {},
   "source": [
    "### Truncation to category"
   ]
  },
  {
   "cell_type": "code",
   "execution_count": 54,
   "id": "9905c652-8d47-4ae7-85e1-ce43d33c84ed",
   "metadata": {},
   "outputs": [],
   "source": [
    "df[\"icd10_category\"] = df[\"icd10_code\"].str[:3]"
   ]
  },
  {
   "cell_type": "markdown",
   "id": "698e69d7-d7c7-4048-a471-f902c8238629",
   "metadata": {},
   "source": [
    "### Save"
   ]
  },
  {
   "cell_type": "code",
   "execution_count": 56,
   "id": "3c495e74-2b1a-4c64-a49e-770ee85ff2ea",
   "metadata": {},
   "outputs": [
    {
     "data": {
      "text/html": [
       "<div>\n",
       "<style scoped>\n",
       "    .dataframe tbody tr th:only-of-type {\n",
       "        vertical-align: middle;\n",
       "    }\n",
       "\n",
       "    .dataframe tbody tr th {\n",
       "        vertical-align: top;\n",
       "    }\n",
       "\n",
       "    .dataframe thead th {\n",
       "        text-align: right;\n",
       "    }\n",
       "</style>\n",
       "<table border=\"1\" class=\"dataframe\">\n",
       "  <thead>\n",
       "    <tr style=\"text-align: right;\">\n",
       "      <th></th>\n",
       "      <th>subject_id</th>\n",
       "      <th>hadm_id</th>\n",
       "      <th>seq_num</th>\n",
       "      <th>icd_code</th>\n",
       "      <th>icd_version</th>\n",
       "      <th>icd10_code</th>\n",
       "      <th>icd10_category</th>\n",
       "    </tr>\n",
       "  </thead>\n",
       "  <tbody>\n",
       "    <tr>\n",
       "      <th>0</th>\n",
       "      <td>10000032</td>\n",
       "      <td>22595853</td>\n",
       "      <td>1</td>\n",
       "      <td>5723</td>\n",
       "      <td>9</td>\n",
       "      <td>K766</td>\n",
       "      <td>K76</td>\n",
       "    </tr>\n",
       "    <tr>\n",
       "      <th>1</th>\n",
       "      <td>10000032</td>\n",
       "      <td>22595853</td>\n",
       "      <td>2</td>\n",
       "      <td>78959</td>\n",
       "      <td>9</td>\n",
       "      <td>R188</td>\n",
       "      <td>R18</td>\n",
       "    </tr>\n",
       "    <tr>\n",
       "      <th>2</th>\n",
       "      <td>10000032</td>\n",
       "      <td>22595853</td>\n",
       "      <td>3</td>\n",
       "      <td>5715</td>\n",
       "      <td>9</td>\n",
       "      <td>K740</td>\n",
       "      <td>K74</td>\n",
       "    </tr>\n",
       "    <tr>\n",
       "      <th>3</th>\n",
       "      <td>10000032</td>\n",
       "      <td>22595853</td>\n",
       "      <td>4</td>\n",
       "      <td>07070</td>\n",
       "      <td>9</td>\n",
       "      <td>B1920</td>\n",
       "      <td>B19</td>\n",
       "    </tr>\n",
       "    <tr>\n",
       "      <th>4</th>\n",
       "      <td>10000032</td>\n",
       "      <td>22595853</td>\n",
       "      <td>5</td>\n",
       "      <td>496</td>\n",
       "      <td>9</td>\n",
       "      <td>J449</td>\n",
       "      <td>J44</td>\n",
       "    </tr>\n",
       "  </tbody>\n",
       "</table>\n",
       "</div>"
      ],
      "text/plain": [
       "   subject_id   hadm_id  seq_num icd_code  icd_version icd10_code  \\\n",
       "0    10000032  22595853        1     5723            9       K766   \n",
       "1    10000032  22595853        2    78959            9       R188   \n",
       "2    10000032  22595853        3     5715            9       K740   \n",
       "3    10000032  22595853        4    07070            9      B1920   \n",
       "4    10000032  22595853        5      496            9       J449   \n",
       "\n",
       "  icd10_category  \n",
       "0            K76  \n",
       "1            R18  \n",
       "2            K74  \n",
       "3            B19  \n",
       "4            J44  "
      ]
     },
     "execution_count": 56,
     "metadata": {},
     "output_type": "execute_result"
    }
   ],
   "source": [
    "df.head()"
   ]
  },
  {
   "cell_type": "code",
   "execution_count": 57,
   "id": "87b14338-911a-4ddb-99a3-52a0803d8622",
   "metadata": {},
   "outputs": [],
   "source": [
    "df.to_csv(\"diagnoses_icd10.csv\")"
   ]
  }
 ],
 "metadata": {
  "kernelspec": {
   "display_name": "PyTorch-2.1.0",
   "language": "python",
   "name": "pytorch-2.1.0"
  },
  "language_info": {
   "codemirror_mode": {
    "name": "ipython",
    "version": 3
   },
   "file_extension": ".py",
   "mimetype": "text/x-python",
   "name": "python",
   "nbconvert_exporter": "python",
   "pygments_lexer": "ipython3",
   "version": "3.9.10"
  }
 },
 "nbformat": 4,
 "nbformat_minor": 5
}
