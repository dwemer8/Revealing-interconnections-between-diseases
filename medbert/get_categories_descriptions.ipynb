{
 "cells": [
  {
   "cell_type": "code",
   "execution_count": 13,
   "id": "1ee96016-a302-4ddb-a3a8-ee44ea43bcd8",
   "metadata": {},
   "outputs": [
    {
     "name": "stdout",
     "output_type": "stream",
     "text": [
      "Looking in indexes: http://pip.modelarts.private.com:8888/repository/pypi/simple\n",
      "Collecting simple-icd-10\n",
      "  Downloading http://pip.modelarts.private.com:8888/repository/pypi/packages/simple-icd-10/2.1.1/simple_icd_10-2.1.1-py3-none-any.whl (174 kB)\n",
      "\u001b[K     |████████████████████████████████| 174 kB 38.1 MB/s eta 0:00:01\n",
      "\u001b[?25hInstalling collected packages: simple-icd-10\n",
      "Successfully installed simple-icd-10-2.1.1\n",
      "\u001b[33mWARNING: You are using pip version 21.0.1; however, version 25.1.1 is available.\n",
      "You should consider upgrading via the '/home/ma-user/anaconda3/envs/PyTorch-2.1.0/bin/python -m pip install --upgrade pip' command.\u001b[0m\n",
      "Note: you may need to restart the kernel to use updated packages.\n"
     ]
    }
   ],
   "source": [
    "# %pip install simple-icd-10"
   ]
  },
  {
   "cell_type": "code",
   "execution_count": 9,
   "id": "fd9b1a15-0555-40d6-8284-3fbce8f84c73",
   "metadata": {},
   "outputs": [],
   "source": [
    "import os\n",
    "import re\n",
    "import numpy as np\n",
    "import pandas as pd\n",
    "from IPython.display import display\n",
    "import simple_icd_10 as icd"
   ]
  },
  {
   "cell_type": "code",
   "execution_count": 2,
   "id": "9d88d1e4-de1f-4704-abb3-26060007d7c2",
   "metadata": {},
   "outputs": [],
   "source": [
    "DATA_DIR = \".\"\n",
    "TABLE = \"diagnoses_icd10.csv\""
   ]
  },
  {
   "cell_type": "code",
   "execution_count": 3,
   "id": "801afa7b-2947-49b2-8daa-b09b9c91dd54",
   "metadata": {},
   "outputs": [],
   "source": [
    "df = pd.read_csv(os.path.join(DATA_DIR, TABLE)).drop(\"Unnamed: 0\", axis=1)"
   ]
  },
  {
   "cell_type": "code",
   "execution_count": 5,
   "id": "8e6bf284-ccf7-439d-baea-0ff74ec8b8be",
   "metadata": {},
   "outputs": [
    {
     "data": {
      "text/html": [
       "<div>\n",
       "<style scoped>\n",
       "    .dataframe tbody tr th:only-of-type {\n",
       "        vertical-align: middle;\n",
       "    }\n",
       "\n",
       "    .dataframe tbody tr th {\n",
       "        vertical-align: top;\n",
       "    }\n",
       "\n",
       "    .dataframe thead th {\n",
       "        text-align: right;\n",
       "    }\n",
       "</style>\n",
       "<table border=\"1\" class=\"dataframe\">\n",
       "  <thead>\n",
       "    <tr style=\"text-align: right;\">\n",
       "      <th></th>\n",
       "      <th>subject_id</th>\n",
       "      <th>hadm_id</th>\n",
       "      <th>seq_num</th>\n",
       "      <th>icd_code</th>\n",
       "      <th>icd_version</th>\n",
       "      <th>icd10_code</th>\n",
       "      <th>icd10_category</th>\n",
       "    </tr>\n",
       "  </thead>\n",
       "  <tbody>\n",
       "    <tr>\n",
       "      <th>0</th>\n",
       "      <td>10000032</td>\n",
       "      <td>22595853</td>\n",
       "      <td>1</td>\n",
       "      <td>5723</td>\n",
       "      <td>9</td>\n",
       "      <td>K766</td>\n",
       "      <td>K76</td>\n",
       "    </tr>\n",
       "    <tr>\n",
       "      <th>1</th>\n",
       "      <td>10000032</td>\n",
       "      <td>22595853</td>\n",
       "      <td>2</td>\n",
       "      <td>78959</td>\n",
       "      <td>9</td>\n",
       "      <td>R188</td>\n",
       "      <td>R18</td>\n",
       "    </tr>\n",
       "    <tr>\n",
       "      <th>2</th>\n",
       "      <td>10000032</td>\n",
       "      <td>22595853</td>\n",
       "      <td>3</td>\n",
       "      <td>5715</td>\n",
       "      <td>9</td>\n",
       "      <td>K740</td>\n",
       "      <td>K74</td>\n",
       "    </tr>\n",
       "    <tr>\n",
       "      <th>3</th>\n",
       "      <td>10000032</td>\n",
       "      <td>22595853</td>\n",
       "      <td>4</td>\n",
       "      <td>07070</td>\n",
       "      <td>9</td>\n",
       "      <td>B1920</td>\n",
       "      <td>B19</td>\n",
       "    </tr>\n",
       "    <tr>\n",
       "      <th>4</th>\n",
       "      <td>10000032</td>\n",
       "      <td>22595853</td>\n",
       "      <td>5</td>\n",
       "      <td>496</td>\n",
       "      <td>9</td>\n",
       "      <td>J449</td>\n",
       "      <td>J44</td>\n",
       "    </tr>\n",
       "  </tbody>\n",
       "</table>\n",
       "</div>"
      ],
      "text/plain": [
       "   subject_id   hadm_id  seq_num icd_code  icd_version icd10_code  \\\n",
       "0    10000032  22595853        1     5723            9       K766   \n",
       "1    10000032  22595853        2    78959            9       R188   \n",
       "2    10000032  22595853        3     5715            9       K740   \n",
       "3    10000032  22595853        4    07070            9      B1920   \n",
       "4    10000032  22595853        5      496            9       J449   \n",
       "\n",
       "  icd10_category  \n",
       "0            K76  \n",
       "1            R18  \n",
       "2            K74  \n",
       "3            B19  \n",
       "4            J44  "
      ]
     },
     "execution_count": 5,
     "metadata": {},
     "output_type": "execute_result"
    }
   ],
   "source": [
    "df.head()"
   ]
  },
  {
   "cell_type": "code",
   "execution_count": 6,
   "id": "2c2450d7-2263-4db4-bcc3-03ff88866f15",
   "metadata": {},
   "outputs": [],
   "source": [
    "icd10_categories = pd.DataFrame({\"icd10_category\": df[\"icd10_category\"].unique()})"
   ]
  },
  {
   "cell_type": "code",
   "execution_count": 7,
   "id": "5c9f6795-ac87-4dcb-bb77-f014608fc35e",
   "metadata": {},
   "outputs": [
    {
     "data": {
      "text/plain": [
       "1757"
      ]
     },
     "execution_count": 7,
     "metadata": {},
     "output_type": "execute_result"
    }
   ],
   "source": [
    "len(icd10_categories)"
   ]
  },
  {
   "cell_type": "code",
   "execution_count": 11,
   "id": "d934cecb-2b99-4e2c-bf30-6368127296c2",
   "metadata": {},
   "outputs": [],
   "source": [
    "icd10_categories[\"is_category\"] = icd10_categories[\"icd10_category\"].apply(lambda x: icd.is_category(x))"
   ]
  },
  {
   "cell_type": "code",
   "execution_count": 12,
   "id": "2b55f1e9-f410-4def-b274-865a2b70cb73",
   "metadata": {},
   "outputs": [
    {
     "data": {
      "text/html": [
       "<div>\n",
       "<style scoped>\n",
       "    .dataframe tbody tr th:only-of-type {\n",
       "        vertical-align: middle;\n",
       "    }\n",
       "\n",
       "    .dataframe tbody tr th {\n",
       "        vertical-align: top;\n",
       "    }\n",
       "\n",
       "    .dataframe thead th {\n",
       "        text-align: right;\n",
       "    }\n",
       "</style>\n",
       "<table border=\"1\" class=\"dataframe\">\n",
       "  <thead>\n",
       "    <tr style=\"text-align: right;\">\n",
       "      <th></th>\n",
       "      <th>icd10_category</th>\n",
       "      <th>is_category</th>\n",
       "    </tr>\n",
       "  </thead>\n",
       "  <tbody>\n",
       "    <tr>\n",
       "      <th>17</th>\n",
       "      <td>Z66</td>\n",
       "      <td>False</td>\n",
       "    </tr>\n",
       "    <tr>\n",
       "      <th>40</th>\n",
       "      <td>Y93</td>\n",
       "      <td>False</td>\n",
       "    </tr>\n",
       "    <tr>\n",
       "      <th>41</th>\n",
       "      <td>Y92</td>\n",
       "      <td>False</td>\n",
       "    </tr>\n",
       "    <tr>\n",
       "      <th>43</th>\n",
       "      <td>Z79</td>\n",
       "      <td>False</td>\n",
       "    </tr>\n",
       "    <tr>\n",
       "      <th>47</th>\n",
       "      <td>V00</td>\n",
       "      <td>False</td>\n",
       "    </tr>\n",
       "    <tr>\n",
       "      <th>...</th>\n",
       "      <td>...</td>\n",
       "      <td>...</td>\n",
       "    </tr>\n",
       "    <tr>\n",
       "      <th>1626</th>\n",
       "      <td>M04</td>\n",
       "      <td>False</td>\n",
       "    </tr>\n",
       "    <tr>\n",
       "      <th>1630</th>\n",
       "      <td>N53</td>\n",
       "      <td>False</td>\n",
       "    </tr>\n",
       "    <tr>\n",
       "      <th>1695</th>\n",
       "      <td>R88</td>\n",
       "      <td>False</td>\n",
       "    </tr>\n",
       "    <tr>\n",
       "      <th>1698</th>\n",
       "      <td>Z69</td>\n",
       "      <td>False</td>\n",
       "    </tr>\n",
       "    <tr>\n",
       "      <th>1738</th>\n",
       "      <td>A91</td>\n",
       "      <td>False</td>\n",
       "    </tr>\n",
       "  </tbody>\n",
       "</table>\n",
       "<p>61 rows × 2 columns</p>\n",
       "</div>"
      ],
      "text/plain": [
       "     icd10_category  is_category\n",
       "17              Z66        False\n",
       "40              Y93        False\n",
       "41              Y92        False\n",
       "43              Z79        False\n",
       "47              V00        False\n",
       "...             ...          ...\n",
       "1626            M04        False\n",
       "1630            N53        False\n",
       "1695            R88        False\n",
       "1698            Z69        False\n",
       "1738            A91        False\n",
       "\n",
       "[61 rows x 2 columns]"
      ]
     },
     "execution_count": 12,
     "metadata": {},
     "output_type": "execute_result"
    }
   ],
   "source": [
    "icd10_categories[~icd10_categories[\"is_category\"]]"
   ]
  },
  {
   "cell_type": "code",
   "execution_count": 16,
   "id": "3cdc36ef-8dc7-4cae-b992-29157a8da7c8",
   "metadata": {},
   "outputs": [
    {
     "ename": "ValueError",
     "evalue": "The code \"R88\" does not exist.",
     "output_type": "error",
     "traceback": [
      "\u001b[0;31m---------------------------------------------------------------------------\u001b[0m",
      "\u001b[0;31mValueError\u001b[0m                                Traceback (most recent call last)",
      "Cell \u001b[0;32mIn[16], line 1\u001b[0m\n\u001b[0;32m----> 1\u001b[0m \u001b[43micd\u001b[49m\u001b[38;5;241;43m.\u001b[39;49m\u001b[43mget_description\u001b[49m\u001b[43m(\u001b[49m\u001b[38;5;124;43m\"\u001b[39;49m\u001b[38;5;124;43mR88\u001b[39;49m\u001b[38;5;124;43m\"\u001b[39;49m\u001b[43m)\u001b[49m\n",
      "File \u001b[0;32m~/anaconda3/envs/PyTorch-2.1.0/lib/python3.9/site-packages/simple_icd_10/simple_icd_10.py:99\u001b[0m, in \u001b[0;36mget_description\u001b[0;34m(code)\u001b[0m\n\u001b[1;32m     97\u001b[0m \u001b[38;5;28;01mdef\u001b[39;00m \u001b[38;5;21mget_description\u001b[39m(code) \u001b[38;5;241m-\u001b[39m\u001b[38;5;241m>\u001b[39m \u001b[38;5;28mstr\u001b[39m:\n\u001b[1;32m     98\u001b[0m     \u001b[38;5;28;01mif\u001b[39;00m \u001b[38;5;129;01mnot\u001b[39;00m is_valid_item(code):\n\u001b[0;32m---> 99\u001b[0m         \u001b[38;5;28;01mraise\u001b[39;00m \u001b[38;5;167;01mValueError\u001b[39;00m(\u001b[38;5;124m\"\u001b[39m\u001b[38;5;124mThe code \u001b[39m\u001b[38;5;130;01m\\\"\u001b[39;00m\u001b[38;5;124m\"\u001b[39m\u001b[38;5;241m+\u001b[39mcode\u001b[38;5;241m+\u001b[39m\u001b[38;5;124m\"\u001b[39m\u001b[38;5;130;01m\\\"\u001b[39;00m\u001b[38;5;124m does not exist.\u001b[39m\u001b[38;5;124m\"\u001b[39m)\n\u001b[1;32m    100\u001b[0m     node \u001b[38;5;241m=\u001b[39m _code_to_node[_add_dot_to_code(code)]\n\u001b[1;32m    101\u001b[0m     \u001b[38;5;28;01mreturn\u001b[39;00m node\u001b[38;5;241m.\u001b[39mdescription\n",
      "\u001b[0;31mValueError\u001b[0m: The code \"R88\" does not exist."
     ]
    }
   ],
   "source": [
    "icd.get_description(\"R88\")"
   ]
  },
  {
   "cell_type": "markdown",
   "id": "3cde0b29-d8d1-4a41-a471-ea38f0be8f81",
   "metadata": {},
   "source": [
    "Since we cannot obtain descriptions for this codes, let's through out them"
   ]
  },
  {
   "cell_type": "code",
   "execution_count": 17,
   "id": "63ce56dd-5e43-4be2-a79c-76061cb59c1a",
   "metadata": {},
   "outputs": [
    {
     "name": "stdout",
     "output_type": "stream",
     "text": [
      "1757\n",
      "1696\n"
     ]
    }
   ],
   "source": [
    "print(len(icd10_categories))\n",
    "icd10_categories = icd10_categories[icd10_categories[\"is_category\"]]\n",
    "print(len(icd10_categories))"
   ]
  },
  {
   "cell_type": "code",
   "execution_count": 22,
   "id": "32cd3b73-93ef-4505-bb6c-db5f01139e44",
   "metadata": {},
   "outputs": [],
   "source": [
    "icd10_categories.drop(\"is_category\", axis=1, inplace=True)"
   ]
  },
  {
   "cell_type": "code",
   "execution_count": 23,
   "id": "1a427628-7863-4f57-94ef-75a3817aca34",
   "metadata": {},
   "outputs": [],
   "source": [
    "icd10_categories[\"description\"] = icd10_categories[\"icd10_category\"].apply(icd.get_description)"
   ]
  },
  {
   "cell_type": "code",
   "execution_count": 24,
   "id": "48c4b3c1-ba39-4754-a208-d792c13e696a",
   "metadata": {},
   "outputs": [
    {
     "data": {
      "text/html": [
       "<div>\n",
       "<style scoped>\n",
       "    .dataframe tbody tr th:only-of-type {\n",
       "        vertical-align: middle;\n",
       "    }\n",
       "\n",
       "    .dataframe tbody tr th {\n",
       "        vertical-align: top;\n",
       "    }\n",
       "\n",
       "    .dataframe thead th {\n",
       "        text-align: right;\n",
       "    }\n",
       "</style>\n",
       "<table border=\"1\" class=\"dataframe\">\n",
       "  <thead>\n",
       "    <tr style=\"text-align: right;\">\n",
       "      <th></th>\n",
       "      <th>icd10_category</th>\n",
       "      <th>description</th>\n",
       "    </tr>\n",
       "  </thead>\n",
       "  <tbody>\n",
       "    <tr>\n",
       "      <th>0</th>\n",
       "      <td>K76</td>\n",
       "      <td>Other diseases of liver</td>\n",
       "    </tr>\n",
       "    <tr>\n",
       "      <th>1</th>\n",
       "      <td>R18</td>\n",
       "      <td>Ascites</td>\n",
       "    </tr>\n",
       "    <tr>\n",
       "      <th>2</th>\n",
       "      <td>K74</td>\n",
       "      <td>Fibrosis and cirrhosis of liver</td>\n",
       "    </tr>\n",
       "    <tr>\n",
       "      <th>3</th>\n",
       "      <td>B19</td>\n",
       "      <td>Unspecified viral hepatitis</td>\n",
       "    </tr>\n",
       "    <tr>\n",
       "      <th>4</th>\n",
       "      <td>J44</td>\n",
       "      <td>Other chronic obstructive pulmonary disease</td>\n",
       "    </tr>\n",
       "  </tbody>\n",
       "</table>\n",
       "</div>"
      ],
      "text/plain": [
       "  icd10_category                                  description\n",
       "0            K76                      Other diseases of liver\n",
       "1            R18                                      Ascites\n",
       "2            K74              Fibrosis and cirrhosis of liver\n",
       "3            B19                  Unspecified viral hepatitis\n",
       "4            J44  Other chronic obstructive pulmonary disease"
      ]
     },
     "execution_count": 24,
     "metadata": {},
     "output_type": "execute_result"
    }
   ],
   "source": [
    "icd10_categories.head()"
   ]
  },
  {
   "cell_type": "code",
   "execution_count": 25,
   "id": "673735aa-6eed-4632-8be4-70104d075966",
   "metadata": {},
   "outputs": [],
   "source": [
    "icd10_categories.to_csv(\"icd10_categories_descriptions.csv\")"
   ]
  },
  {
   "cell_type": "code",
   "execution_count": null,
   "id": "5816d22e-0581-47e8-9f0f-865d7ac93d0f",
   "metadata": {},
   "outputs": [],
   "source": []
  }
 ],
 "metadata": {
  "kernelspec": {
   "display_name": "PyTorch-2.1.0",
   "language": "python",
   "name": "pytorch-2.1.0"
  },
  "language_info": {
   "codemirror_mode": {
    "name": "ipython",
    "version": 3
   },
   "file_extension": ".py",
   "mimetype": "text/x-python",
   "name": "python",
   "nbconvert_exporter": "python",
   "pygments_lexer": "ipython3",
   "version": "3.9.10"
  }
 },
 "nbformat": 4,
 "nbformat_minor": 5
}
