{
 "cells": [
  {
   "cell_type": "code",
   "execution_count": 6,
   "id": "31f8cbf5-b5fa-4b74-b3c8-b28fe6dd9d4d",
   "metadata": {},
   "outputs": [
    {
     "name": "stderr",
     "output_type": "stream",
     "text": [
      "  0%|          | 0/2 [00:00<?, ?it/s]"
     ]
    },
    {
     "name": "stdout",
     "output_type": "stream",
     "text": [
      "Getting responses from qwen3-32b\n"
     ]
    },
    {
     "name": "stderr",
     "output_type": "stream",
     "text": [
      "\n",
      "0it [00:00, ?it/s]\u001b[A\n",
      "1it [01:09, 69.18s/it]\u001b[A\n",
      "2it [01:27, 43.87s/it]\u001b[A\n",
      " 50%|█████     | 1/2 [01:27<01:27, 87.74s/it]"
     ]
    },
    {
     "name": "stdout",
     "output_type": "stream",
     "text": [
      "Getting responses from DeepSeek-V3\n"
     ]
    },
    {
     "name": "stderr",
     "output_type": "stream",
     "text": [
      "\n",
      "0it [00:00, ?it/s]\u001b[A\n",
      "1it [00:08,  8.32s/it]\u001b[A\n",
      "2it [00:13,  6.87s/it]\u001b[A\n",
      "100%|██████████| 2/2 [01:41<00:00, 50.74s/it]"
     ]
    },
    {
     "name": "stdout",
     "output_type": "stream",
     "text": [
      "SUCCESS\n"
     ]
    },
    {
     "name": "stderr",
     "output_type": "stream",
     "text": [
      "\n"
     ]
    }
   ],
   "source": [
    "import os\n",
    "import pandas as pd\n",
    "from tqdm import tqdm\n",
    "import json\n",
    "from openai import OpenAI\n",
    "\n",
    "# api_url = \"https://api.modelarts-maas.com/v1/chat/completions\"\n",
    "with open(\"api_key.txt\", \"r\") as f: api_key = f.readline().strip()\n",
    "\n",
    "base_url = \"https://api.modelarts-maas.com/v1\" # API URL\n",
    "api_key = api_key # Replace yourApiKey with the obtained API Key\n",
    "client = OpenAI(api_key=api_key, base_url=base_url)\n",
    "\n",
    "SYSTEM_PROMPT_MULTI = \"\"\"I'll give you ICD-10 categories (for example, C25, NOT C25.0!) and thier descriptions. You have to tell me, If a patient has an ICD code for a given category in their medical record, what other categories of codes are also likely to be in their medical record?\n",
    "\n",
    "ANSWER IN JSON FORMAT:\n",
    "{\n",
    "    \"comment\": <your thoughts and explanations>,\n",
    "    \"answer\": <list of categories in square brackets, separated by comma, for example: [A01, C05, ..., H12]>\n",
    "}\n",
    "DO NOT ADD ANYTHING ELSE IN YOUR ANSWER.\"\"\"\n",
    "\n",
    "TEMPLATE_MULTI = \"\"\"{{\n",
    "    icd_code: {},\n",
    "    description: {},\n",
    "}}\"\"\"\n",
    "    \n",
    "def get_responses_multi(codes, log_dir=\"logs/\"):\n",
    "    try:\n",
    "        scores = pd.DataFrame(data=[\"null\" for _ in range(len(codes))], index=codes[\"icd10_category\"].values, columns=[\"response\"])\n",
    "\n",
    "        for _, row in tqdm(codes.iterrows()):\n",
    "            query = TEMPLATE_MULTI.format(\n",
    "                row[\"icd10_category\"], \n",
    "                row[\"description\"], \n",
    "            )\n",
    "\n",
    "            response = client.chat.completions.create(\n",
    "                model = model, # model Parameter\n",
    "                messages = [\n",
    "                    {\"role\": \"system\", \"content\": SYSTEM_PROMPT_MULTI},\n",
    "                    {\"role\": \"user\", \"content\": query},\n",
    "                ],\n",
    "                temperature = 0.3,\n",
    "                stream = False\n",
    "            )\n",
    "\n",
    "            scores.loc[row[\"icd10_category\"], \"response\"] = response.choices[0].message.content\n",
    "\n",
    "            if not os.path.exists(log_dir): os.makedirs(log_dir)\n",
    "            with open(\"{}/{}.txt\".format(log_dir, row[\"icd10_category\"]), \"w\") as f: json.dump({\"query\": query, \"response\": response.choices[0].message.content}, f)\n",
    "                \n",
    "        return scores\n",
    "\n",
    "    except Exception as e:\n",
    "        print(e)\n",
    "        return scores\n",
    "    \n",
    "codes = pd.read_csv(\"icd10_categories_descriptions.csv\").drop(\"Unnamed: 0\", axis=1)[:2]\n",
    "\n",
    "for model in tqdm([\n",
    "        \"DeepSeek-V3\",\n",
    "        \"qwen3-235b-a22b\", \n",
    "        # \"qwen3-32b\",\n",
    "    ]):\n",
    "    for i in range(2):\n",
    "        print(f\"Getting responses from {model}\")\n",
    "        responses = get_responses_multi(codes, log_dir=f\"logs_{model}_{i}/\")\n",
    "        responses.to_csv(f\"responses_{model}_{i}.tsv\", sep=\"\\t\")\n",
    "\n",
    "print(\"SUCCESS\")\n",
    "\n",
    "##############\n",
    "# trash\n",
    "##############\n",
    "\n",
    "# SYSTEM_PROMPT = \"\"\"I'll give you pairs of ICD-10 codes and thier descriptions. You have to tell me, if a patient has one of them in his medical history, how likely is it that there will be another. \n",
    "# ANSWER IN JSON FORMAT:\n",
    "# {\n",
    "#     \"comment\": <your thoughts and explanations>,\n",
    "#     \"answer\": <low/medium/high>\n",
    "# }\n",
    "# DO NOT ADD ANYTHING IN YOUR ANSWER.\"\"\"\n",
    "\n",
    "# TEMPLATE = \"\"\"{{\n",
    "#     icd_code_a: {},\n",
    "#     icd_code_a_description: {},\n",
    "#     icd_code_b: {},\n",
    "#     icd_code_b_description: {}\n",
    "# }}\"\"\"\n",
    "\n",
    "# def get_scores(codes):\n",
    "#     try:\n",
    "#         scores = pd.DataFrame(data=[[\"null\" for _ in range(len(codes))] for _ in range(len(codes))], index=codes[\"icd10_category\"].values, columns=codes[\"icd10_category\"].values)\n",
    "\n",
    "#         for i, row_i in tqdm(codes.iterrows()):\n",
    "#             for j, row_j in codes.iloc[i+1:].iterrows():\n",
    "#                 query = TEMPLATE.format(\n",
    "#                     row_i[\"icd10_category\"], \n",
    "#                     row_i[\"description\"], \n",
    "#                     row_j[\"icd10_category\"], \n",
    "#                     row_j[\"description\"]\n",
    "#                 )\n",
    "\n",
    "#                 response = client.chat.completions.create(\n",
    "#                     model = \"DeepSeek-V3\", # model Parameter\n",
    "#                     messages = [\n",
    "#                         {\"role\": \"system\", \"content\": SYSTEM_PROMPT},\n",
    "#                         {\"role\": \"user\", \"content\": query},\n",
    "#                     ],\n",
    "#                     temperature = 0.3,\n",
    "#                     stream = False\n",
    "#                 )\n",
    "                \n",
    "#                 scores.loc[row_i[\"icd10_category\"], row_j[\"icd10_category\"]] = response.choices[0].message.content\n",
    "                \n",
    "#                 if not os.exists(log_dir):\n",
    "#                     os.makedirs(log_dir)\n",
    "#                 with open(\"{}/{}_{}.txt\".format(log_dir, row_i[\"icd10_category\"], row_j[\"icd10_category\"]), \"w\") as f: json.dump({\"query\": query, \"response\": response.choices[0].message.content}, f)\n",
    "                \n",
    "#         return scores\n",
    "\n",
    "#     except Exception as e:\n",
    "#         print(e)\n",
    "#         return scores"
   ]
  },
  {
   "cell_type": "code",
   "execution_count": null,
   "id": "7a090617-911c-4d39-8778-1548bc7ce8ff",
   "metadata": {},
   "outputs": [],
   "source": []
  }
 ],
 "metadata": {
  "kernelspec": {
   "display_name": "PyTorch-2.1.0",
   "language": "python",
   "name": "pytorch-2.1.0"
  },
  "language_info": {
   "codemirror_mode": {
    "name": "ipython",
    "version": 3
   },
   "file_extension": ".py",
   "mimetype": "text/x-python",
   "name": "python",
   "nbconvert_exporter": "python",
   "pygments_lexer": "ipython3",
   "version": "3.9.10"
  }
 },
 "nbformat": 4,
 "nbformat_minor": 5
}
