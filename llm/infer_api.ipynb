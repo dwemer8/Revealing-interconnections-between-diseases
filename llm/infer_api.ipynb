{
 "cells": [
  {
   "cell_type": "code",
   "execution_count": 2,
   "id": "bd756cdf-a5b9-427f-8c6a-78c9aaf381ba",
   "metadata": {},
   "outputs": [],
   "source": [
    "# %pip install --upgrade \"openai>=1.0\""
   ]
  },
  {
   "cell_type": "code",
   "execution_count": 14,
   "id": "74a49182-5728-4792-9bcc-c354e9a3d3d1",
   "metadata": {},
   "outputs": [],
   "source": [
    "api_url = \"https://api.modelarts-maas.com/v1/chat/completions\"\n",
    "model = \"qwen3-235b-a22b\" #\"deepseek-r1-250528\" #\"DeepSeek-V3\"\n",
    "with open(\"api_key.txt\", \"r\") as f: api_key = f.readline().strip()"
   ]
  },
  {
   "cell_type": "code",
   "execution_count": 7,
   "id": "5715205d-1308-42cf-a589-1eebacfb1e49",
   "metadata": {},
   "outputs": [],
   "source": [
    "import pandas as pd\n",
    "from tqdm import tqdm\n",
    "import json"
   ]
  },
  {
   "cell_type": "code",
   "execution_count": 8,
   "id": "3d5db520-9761-4177-a12c-d1ee3d0073ed",
   "metadata": {},
   "outputs": [],
   "source": [
    "codes = pd.read_csv(\"icd10_categories_descriptions.csv\").drop(\"Unnamed: 0\", axis=1)"
   ]
  },
  {
   "cell_type": "code",
   "execution_count": 9,
   "id": "e16b017b-6ec3-4276-8de0-d66a0ede64c1",
   "metadata": {},
   "outputs": [
    {
     "data": {
      "text/html": [
       "<div>\n",
       "<style scoped>\n",
       "    .dataframe tbody tr th:only-of-type {\n",
       "        vertical-align: middle;\n",
       "    }\n",
       "\n",
       "    .dataframe tbody tr th {\n",
       "        vertical-align: top;\n",
       "    }\n",
       "\n",
       "    .dataframe thead th {\n",
       "        text-align: right;\n",
       "    }\n",
       "</style>\n",
       "<table border=\"1\" class=\"dataframe\">\n",
       "  <thead>\n",
       "    <tr style=\"text-align: right;\">\n",
       "      <th></th>\n",
       "      <th>icd10_category</th>\n",
       "      <th>description</th>\n",
       "    </tr>\n",
       "  </thead>\n",
       "  <tbody>\n",
       "    <tr>\n",
       "      <th>0</th>\n",
       "      <td>K76</td>\n",
       "      <td>Other diseases of liver</td>\n",
       "    </tr>\n",
       "    <tr>\n",
       "      <th>1</th>\n",
       "      <td>R18</td>\n",
       "      <td>Ascites</td>\n",
       "    </tr>\n",
       "    <tr>\n",
       "      <th>2</th>\n",
       "      <td>K74</td>\n",
       "      <td>Fibrosis and cirrhosis of liver</td>\n",
       "    </tr>\n",
       "    <tr>\n",
       "      <th>3</th>\n",
       "      <td>B19</td>\n",
       "      <td>Unspecified viral hepatitis</td>\n",
       "    </tr>\n",
       "    <tr>\n",
       "      <th>4</th>\n",
       "      <td>J44</td>\n",
       "      <td>Other chronic obstructive pulmonary disease</td>\n",
       "    </tr>\n",
       "  </tbody>\n",
       "</table>\n",
       "</div>"
      ],
      "text/plain": [
       "  icd10_category                                  description\n",
       "0            K76                      Other diseases of liver\n",
       "1            R18                                      Ascites\n",
       "2            K74              Fibrosis and cirrhosis of liver\n",
       "3            B19                  Unspecified viral hepatitis\n",
       "4            J44  Other chronic obstructive pulmonary disease"
      ]
     },
     "execution_count": 9,
     "metadata": {},
     "output_type": "execute_result"
    }
   ],
   "source": [
    "codes.head()"
   ]
  },
  {
   "cell_type": "code",
   "execution_count": 10,
   "id": "57addb3a-aad8-4c7b-93c1-f5ba740d2789",
   "metadata": {},
   "outputs": [],
   "source": [
    "SYSTEM_PROMPT = \"\"\"I'll give you pairs of ICD-10 codes and thier descriptions. You have to tell me, if a patient has one of them in his medical history, how likely is it that there will be another. \n",
    "ANSWER IN JSON FORMAT:\n",
    "{\n",
    "    \"comment\": <your thoughts and explanations>,\n",
    "    \"answer\": <low/medium/high>\n",
    "}\n",
    "DO NOT ADD ANYTHING IN YOUR ANSWER.\"\"\"\n",
    "\n",
    "TEMPLATE = \"\"\"{{\n",
    "    icd_code_a: {},\n",
    "    icd_code_a_description: {},\n",
    "    icd_code_b: {},\n",
    "    icd_code_b_description: {}\n",
    "}}\"\"\""
   ]
  },
  {
   "cell_type": "code",
   "execution_count": 11,
   "id": "90fb5093-66ed-4ad4-a64a-9ea4c1bcf46f",
   "metadata": {},
   "outputs": [],
   "source": [
    "SYSTEM_PROMPT_MULTI = \"\"\"I'll give you ICD-10 categories (for example, C25, NOT C25.0!) and thier descriptions. You have to tell me, If a patient has an ICD code for a given category in their medical record, what other categories of codes are also likely to be in their medical record?\n",
    "\n",
    "ANSWER IN JSON FORMAT:\n",
    "{\n",
    "    \"comment\": <your thoughts and explanations>,\n",
    "    \"answer\": <list of categories in square brackets, separated by comma, for example: [A01, C05, ..., H12]>\n",
    "}\n",
    "DO NOT ADD ANYTHING ELSE IN YOUR ANSWER.\"\"\"\n",
    "\n",
    "TEMPLATE_MULTI = \"\"\"{{\n",
    "    icd_code: {},\n",
    "    description: {},\n",
    "}}\"\"\""
   ]
  },
  {
   "cell_type": "code",
   "execution_count": 12,
   "id": "7f52d37f-5d7f-4db4-b900-44303c8b4fc3",
   "metadata": {},
   "outputs": [],
   "source": [
    "from openai import OpenAI\n",
    "\n",
    "base_url = \"https://api.modelarts-maas.com/v1\" # API URL\n",
    "api_key = api_key # Replace yourApiKey with the obtained API Key\n",
    "client = OpenAI(api_key=api_key, base_url=base_url)"
   ]
  },
  {
   "cell_type": "code",
   "execution_count": 15,
   "id": "93c821b5-369d-44d8-9bdd-3e9e7ce9f870",
   "metadata": {},
   "outputs": [
    {
     "data": {
      "text/plain": [
       "'\\n\\n{\\n    \"comment\": \"K76 (Other diseases of liver) often co-occurs with complications of chronic liver disease (e.g., portal hypertension, ascites), underlying causes (e.g., alcohol-related liver disease, viral hepatitis), and systemic effects (e.g., coagulopathy, nutritional deficiencies). Related codes may include those for hepatic failure, varices, metabolic disturbances, and alcohol-related disorders.\",\\n    \"answer\": [ \"K70\", \"B18\", \"I85\", \"I86\", \"D68\", \"R18\", \"K72\", \"F10\", \"E55\", \"E88\", \"C22\" ]\\n}'"
      ]
     },
     "execution_count": 15,
     "metadata": {},
     "output_type": "execute_result"
    }
   ],
   "source": [
    "query = TEMPLATE_MULTI.format(\n",
    "    \"K76\", \n",
    "    \"Other diseases of liver\", \n",
    ")\n",
    "\n",
    "response = client.chat.completions.create(\n",
    "    model = model, # model Parameter\n",
    "    messages = [\n",
    "        {\"role\": \"system\", \"content\": SYSTEM_PROMPT_MULTI},\n",
    "        {\"role\": \"user\", \"content\": query},\n",
    "    ],\n",
    "    temperature = 0.3,\n",
    "    stream = False\n",
    ")\n",
    "\n",
    "response.choices[0].message.content"
   ]
  },
  {
   "cell_type": "code",
   "execution_count": 90,
   "id": "4c835f7b-619e-4bb8-a55b-3511e4556494",
   "metadata": {},
   "outputs": [],
   "source": [
    "def get_scores(codes):\n",
    "    try:\n",
    "        scores = pd.DataFrame(data=[[\"null\" for _ in range(len(codes))] for _ in range(len(codes))], index=codes[\"icd10_category\"].values, columns=codes[\"icd10_category\"].values)\n",
    "\n",
    "        for i, row_i in tqdm(codes.iterrows()):\n",
    "            for j, row_j in codes.iloc[i+1:].iterrows():\n",
    "                query = TEMPLATE.format(\n",
    "                    row_i[\"icd10_category\"], \n",
    "                    row_i[\"description\"], \n",
    "                    row_j[\"icd10_category\"], \n",
    "                    row_j[\"description\"]\n",
    "                )\n",
    "\n",
    "                response = client.chat.completions.create(\n",
    "                    model = \"DeepSeek-V3\", # model Parameter\n",
    "                    messages = [\n",
    "                        {\"role\": \"system\", \"content\": SYSTEM_PROMPT},\n",
    "                        {\"role\": \"user\", \"content\": query},\n",
    "                    ],\n",
    "                    temperature = 0.3,\n",
    "                    stream = False\n",
    "                )\n",
    "                \n",
    "                scores.loc[row_i[\"icd10_category\"], row_j[\"icd10_category\"]] = response.choices[0].message.content\n",
    "                \n",
    "                with open(\"logs/{}_{}.txt\".format(row_i[\"icd10_category\"], row_j[\"icd10_category\"]), \"w\") as f: json.dump({\"query\": query, \"response\": response.choices[0].message.content}, f)\n",
    "                \n",
    "        return scores\n",
    "\n",
    "    except Exception as e:\n",
    "        print(e)\n",
    "        return scores\n",
    "    \n",
    "def get_responses_multi(codes):\n",
    "    try:\n",
    "        scores = pd.DataFrame(data=[\"null\" for _ in range(len(codes))], index=codes[\"icd10_category\"].values, columns=[\"response\"])\n",
    "\n",
    "        for _, row in tqdm(codes.iterrows()):\n",
    "            query = TEMPLATE_MULTI.format(\n",
    "                row[\"icd10_category\"], \n",
    "                row[\"description\"], \n",
    "            )\n",
    "\n",
    "            response = client.chat.completions.create(\n",
    "                model = \"DeepSeek-V3\", # model Parameter\n",
    "                messages = [\n",
    "                    {\"role\": \"system\", \"content\": SYSTEM_PROMPT_MULTI},\n",
    "                    {\"role\": \"user\", \"content\": query},\n",
    "                ],\n",
    "                temperature = 0.3,\n",
    "                stream = False\n",
    "            )\n",
    "\n",
    "            scores.loc[row[\"icd10_category\"], \"response\"] = response.choices[0].message.content\n",
    "\n",
    "            with open(\"logs/{}.txt\".format(row[\"icd10_category\"]), \"w\") as f: json.dump({\"query\": query, \"response\": response.choices[0].message.content}, f)\n",
    "                \n",
    "        return scores\n",
    "\n",
    "    except Exception as e:\n",
    "        print(e)\n",
    "        return scores"
   ]
  },
  {
   "cell_type": "code",
   "execution_count": 91,
   "id": "aca636a4-c781-43db-b8fc-6bfc792ba2ad",
   "metadata": {},
   "outputs": [
    {
     "data": {
      "text/html": [
       "<div>\n",
       "<style scoped>\n",
       "    .dataframe tbody tr th:only-of-type {\n",
       "        vertical-align: middle;\n",
       "    }\n",
       "\n",
       "    .dataframe tbody tr th {\n",
       "        vertical-align: top;\n",
       "    }\n",
       "\n",
       "    .dataframe thead th {\n",
       "        text-align: right;\n",
       "    }\n",
       "</style>\n",
       "<table border=\"1\" class=\"dataframe\">\n",
       "  <thead>\n",
       "    <tr style=\"text-align: right;\">\n",
       "      <th></th>\n",
       "      <th>icd10_category</th>\n",
       "      <th>description</th>\n",
       "    </tr>\n",
       "  </thead>\n",
       "  <tbody>\n",
       "    <tr>\n",
       "      <th>0</th>\n",
       "      <td>K76</td>\n",
       "      <td>Other diseases of liver</td>\n",
       "    </tr>\n",
       "    <tr>\n",
       "      <th>1</th>\n",
       "      <td>R18</td>\n",
       "      <td>Ascites</td>\n",
       "    </tr>\n",
       "    <tr>\n",
       "      <th>2</th>\n",
       "      <td>K74</td>\n",
       "      <td>Fibrosis and cirrhosis of liver</td>\n",
       "    </tr>\n",
       "  </tbody>\n",
       "</table>\n",
       "</div>"
      ],
      "text/plain": [
       "  icd10_category                      description\n",
       "0            K76          Other diseases of liver\n",
       "1            R18                          Ascites\n",
       "2            K74  Fibrosis and cirrhosis of liver"
      ]
     },
     "execution_count": 91,
     "metadata": {},
     "output_type": "execute_result"
    }
   ],
   "source": [
    "codes.iloc[:3]"
   ]
  },
  {
   "cell_type": "code",
   "execution_count": 92,
   "id": "02d03ecb-8d57-4abb-9791-8ced04225401",
   "metadata": {},
   "outputs": [
    {
     "name": "stdout",
     "output_type": "stream",
     "text": [
      "  icd10_category                      description\n",
      "0            K76          Other diseases of liver\n",
      "1            R18                          Ascites\n",
      "2            K74  Fibrosis and cirrhosis of liver\n"
     ]
    },
    {
     "name": "stderr",
     "output_type": "stream",
     "text": [
      "3it [00:15,  5.10s/it]\n"
     ]
    }
   ],
   "source": [
    "responses = get_responses_multi(codes[:3])"
   ]
  },
  {
   "cell_type": "code",
   "execution_count": 94,
   "id": "19360ebd-1494-4053-a197-bb278cc24f54",
   "metadata": {},
   "outputs": [
    {
     "ename": "NameError",
     "evalue": "name 'responses' is not defined",
     "output_type": "error",
     "traceback": [
      "\u001b[0;31m---------------------------------------------------------------------------\u001b[0m",
      "\u001b[0;31mNameError\u001b[0m                                 Traceback (most recent call last)",
      "Cell \u001b[0;32mIn[94], line 1\u001b[0m\n\u001b[0;32m----> 1\u001b[0m \u001b[43mresponses\u001b[49m\n",
      "\u001b[0;31mNameError\u001b[0m: name 'responses' is not defined"
     ]
    }
   ],
   "source": [
    "responses"
   ]
  },
  {
   "cell_type": "code",
   "execution_count": 67,
   "id": "e77611b5-2a41-4dd3-91e0-9cf6a5172e41",
   "metadata": {},
   "outputs": [],
   "source": [
    "responses.to_csv(\"responses.tsv\", sep=\"\\t\")"
   ]
  },
  {
   "cell_type": "code",
   "execution_count": null,
   "id": "31f8cbf5-b5fa-4b74-b3c8-b28fe6dd9d4d",
   "metadata": {},
   "outputs": [],
   "source": []
  }
 ],
 "metadata": {
  "kernelspec": {
   "display_name": "PyTorch-2.1.0",
   "language": "python",
   "name": "pytorch-2.1.0"
  },
  "language_info": {
   "codemirror_mode": {
    "name": "ipython",
    "version": 3
   },
   "file_extension": ".py",
   "mimetype": "text/x-python",
   "name": "python",
   "nbconvert_exporter": "python",
   "pygments_lexer": "ipython3",
   "version": "3.9.10"
  }
 },
 "nbformat": 4,
 "nbformat_minor": 5
}
