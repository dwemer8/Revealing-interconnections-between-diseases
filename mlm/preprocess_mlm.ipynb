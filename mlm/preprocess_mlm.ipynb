{
 "cells": [
  {
   "cell_type": "code",
   "execution_count": 1,
   "id": "3536f3d7-bfe3-4c5e-8d41-bfb5ea7499aa",
   "metadata": {
    "execution": {
     "iopub.execute_input": "2025-07-22T11:24:00.312035Z",
     "iopub.status.busy": "2025-07-22T11:24:00.311128Z",
     "iopub.status.idle": "2025-07-22T11:24:00.743936Z",
     "shell.execute_reply": "2025-07-22T11:24:00.743161Z",
     "shell.execute_reply.started": "2025-07-22T11:24:00.311993Z"
    },
    "tags": []
   },
   "outputs": [],
   "source": [
    "import numpy as np\n",
    "import pandas as pd, re, requests\n",
    "from itertools import combinations\n",
    "from scipy.sparse import dok_matrix\n",
    "import matplotlib.pyplot as plt\n",
    "import seaborn as sns\n",
    "import os\n",
    "import re"
   ]
  },
  {
   "cell_type": "code",
   "execution_count": 3,
   "id": "f2299157-0aae-4e3a-8228-2ed482949935",
   "metadata": {
    "execution": {
     "iopub.execute_input": "2025-07-22T11:24:16.514512Z",
     "iopub.status.busy": "2025-07-22T11:24:16.513572Z",
     "iopub.status.idle": "2025-07-22T11:24:22.039010Z",
     "shell.execute_reply": "2025-07-22T11:24:22.038367Z",
     "shell.execute_reply.started": "2025-07-22T11:24:16.514473Z"
    },
    "tags": []
   },
   "outputs": [],
   "source": [
    "dataset_dir = '../data/mimic-4/'\n",
    "df = pd.read_csv(\"diagnoses_icd10.csv\", index_col=0)\n",
    "admissions = pd.read_csv(os.path.join(dataset_dir, \"admissions.csv\"))\n",
    "df = pd.merge(\n",
    "    df,\n",
    "    admissions[['hadm_id', 'admittime', 'dischtime', 'deathtime']],\n",
    "    on='hadm_id'\n",
    ")"
   ]
  },
  {
   "cell_type": "code",
   "execution_count": 4,
   "id": "8e1282f9-687c-4982-860b-210a9b959afe",
   "metadata": {
    "execution": {
     "iopub.execute_input": "2025-07-22T11:24:22.040942Z",
     "iopub.status.busy": "2025-07-22T11:24:22.039980Z",
     "iopub.status.idle": "2025-07-22T11:24:22.208391Z",
     "shell.execute_reply": "2025-07-22T11:24:22.207784Z",
     "shell.execute_reply.started": "2025-07-22T11:24:22.040910Z"
    },
    "tags": []
   },
   "outputs": [],
   "source": [
    "n9  = (df.icd_version == 9).sum()\n",
    "nun = df[\"icd10_code\"].isna() & (df.icd_version == 9)"
   ]
  },
  {
   "cell_type": "code",
   "execution_count": 5,
   "id": "d50eb59b-3313-45f5-9eb9-a437e0e87556",
   "metadata": {
    "execution": {
     "iopub.execute_input": "2025-07-22T11:24:22.209743Z",
     "iopub.status.busy": "2025-07-22T11:24:22.209180Z",
     "iopub.status.idle": "2025-07-22T11:24:22.542561Z",
     "shell.execute_reply": "2025-07-22T11:24:22.541880Z",
     "shell.execute_reply.started": "2025-07-22T11:24:22.209711Z"
    },
    "tags": []
   },
   "outputs": [],
   "source": [
    "mapped = df[\"icd10_code\"].notnull() & (df[\"icd_version\"] == 9)\n",
    "unmapped = df[\"icd10_code\"].isna() & (df[\"icd_version\"] == 9)"
   ]
  },
  {
   "cell_type": "code",
   "execution_count": 6,
   "id": "5e3f706c-d8b0-4db4-9f57-8006c3bc200b",
   "metadata": {
    "execution": {
     "iopub.execute_input": "2025-07-22T11:24:22.544540Z",
     "iopub.status.busy": "2025-07-22T11:24:22.543921Z",
     "iopub.status.idle": "2025-07-22T11:24:28.646591Z",
     "shell.execute_reply": "2025-07-22T11:24:28.645966Z",
     "shell.execute_reply.started": "2025-07-22T11:24:22.544508Z"
    },
    "tags": []
   },
   "outputs": [
    {
     "data": {
      "text/html": [
       "<div>\n",
       "<style scoped>\n",
       "    .dataframe tbody tr th:only-of-type {\n",
       "        vertical-align: middle;\n",
       "    }\n",
       "\n",
       "    .dataframe tbody tr th {\n",
       "        vertical-align: top;\n",
       "    }\n",
       "\n",
       "    .dataframe thead th {\n",
       "        text-align: right;\n",
       "    }\n",
       "</style>\n",
       "<table border=\"1\" class=\"dataframe\">\n",
       "  <thead>\n",
       "    <tr style=\"text-align: right;\">\n",
       "      <th></th>\n",
       "      <th>subject_id</th>\n",
       "      <th>hadm_id</th>\n",
       "      <th>seq_num</th>\n",
       "      <th>icd_code</th>\n",
       "      <th>icd_version</th>\n",
       "      <th>icd10_code</th>\n",
       "      <th>icd10_category</th>\n",
       "      <th>admittime</th>\n",
       "      <th>dischtime</th>\n",
       "      <th>deathtime</th>\n",
       "      <th>is_oncology</th>\n",
       "      <th>category</th>\n",
       "    </tr>\n",
       "  </thead>\n",
       "  <tbody>\n",
       "    <tr>\n",
       "      <th>0</th>\n",
       "      <td>10000032</td>\n",
       "      <td>22595853</td>\n",
       "      <td>1</td>\n",
       "      <td>5723</td>\n",
       "      <td>9</td>\n",
       "      <td>K766</td>\n",
       "      <td>K76</td>\n",
       "      <td>2180-05-06 22:23:00</td>\n",
       "      <td>2180-05-07 17:15:00</td>\n",
       "      <td>NaN</td>\n",
       "      <td>0</td>\n",
       "      <td>K76</td>\n",
       "    </tr>\n",
       "    <tr>\n",
       "      <th>1</th>\n",
       "      <td>10000032</td>\n",
       "      <td>22595853</td>\n",
       "      <td>2</td>\n",
       "      <td>78959</td>\n",
       "      <td>9</td>\n",
       "      <td>R188</td>\n",
       "      <td>R18</td>\n",
       "      <td>2180-05-06 22:23:00</td>\n",
       "      <td>2180-05-07 17:15:00</td>\n",
       "      <td>NaN</td>\n",
       "      <td>0</td>\n",
       "      <td>R18</td>\n",
       "    </tr>\n",
       "    <tr>\n",
       "      <th>2</th>\n",
       "      <td>10000032</td>\n",
       "      <td>22595853</td>\n",
       "      <td>3</td>\n",
       "      <td>5715</td>\n",
       "      <td>9</td>\n",
       "      <td>K740</td>\n",
       "      <td>K74</td>\n",
       "      <td>2180-05-06 22:23:00</td>\n",
       "      <td>2180-05-07 17:15:00</td>\n",
       "      <td>NaN</td>\n",
       "      <td>0</td>\n",
       "      <td>K74</td>\n",
       "    </tr>\n",
       "    <tr>\n",
       "      <th>3</th>\n",
       "      <td>10000032</td>\n",
       "      <td>22595853</td>\n",
       "      <td>4</td>\n",
       "      <td>07070</td>\n",
       "      <td>9</td>\n",
       "      <td>B1920</td>\n",
       "      <td>B19</td>\n",
       "      <td>2180-05-06 22:23:00</td>\n",
       "      <td>2180-05-07 17:15:00</td>\n",
       "      <td>NaN</td>\n",
       "      <td>0</td>\n",
       "      <td>B19</td>\n",
       "    </tr>\n",
       "    <tr>\n",
       "      <th>4</th>\n",
       "      <td>10000032</td>\n",
       "      <td>22595853</td>\n",
       "      <td>5</td>\n",
       "      <td>496</td>\n",
       "      <td>9</td>\n",
       "      <td>J449</td>\n",
       "      <td>J44</td>\n",
       "      <td>2180-05-06 22:23:00</td>\n",
       "      <td>2180-05-07 17:15:00</td>\n",
       "      <td>NaN</td>\n",
       "      <td>0</td>\n",
       "      <td>J44</td>\n",
       "    </tr>\n",
       "  </tbody>\n",
       "</table>\n",
       "</div>"
      ],
      "text/plain": [
       "   subject_id   hadm_id  seq_num  ... deathtime  is_oncology category\n",
       "0    10000032  22595853        1  ...       NaN            0      K76\n",
       "1    10000032  22595853        2  ...       NaN            0      R18\n",
       "2    10000032  22595853        3  ...       NaN            0      K74\n",
       "3    10000032  22595853        4  ...       NaN            0      B19\n",
       "4    10000032  22595853        5  ...       NaN            0      J44\n",
       "\n",
       "[5 rows x 12 columns]"
      ]
     },
     "execution_count": 6,
     "metadata": {},
     "output_type": "execute_result"
    }
   ],
   "source": [
    "def is_onco(code: str) -> int:\n",
    "    \"\"\"\n",
    "    Malignant neoplasms  C00–C97\n",
    "    In-situ + uncertain   D00–D09, D37–D48\n",
    "    Берём три ведущих символа и проверяем диапазоны.\n",
    "    \"\"\"\n",
    "    c = code.upper()\n",
    "    if c[0] == \"C\":\n",
    "        return 1\n",
    "    if re.match(r\"D0[0-9]|D[3-4][7-8]\", c):\n",
    "        return 1\n",
    "    return 0\n",
    "\n",
    "df[\"is_oncology\"] = df[\"icd10_code\"].map(is_onco).astype(\"int8\")\n",
    "df[\"category\"] = df[\"icd10_code\"].str[:3]\n",
    "df.head(5)"
   ]
  },
  {
   "cell_type": "code",
   "execution_count": 13,
   "id": "c575e560-6315-4d7c-bd98-15e3a6d8fc9c",
   "metadata": {
    "execution": {
     "iopub.execute_input": "2025-07-22T11:30:17.997661Z",
     "iopub.status.busy": "2025-07-22T11:30:17.996897Z",
     "iopub.status.idle": "2025-07-22T11:30:21.763211Z",
     "shell.execute_reply": "2025-07-22T11:30:21.762585Z",
     "shell.execute_reply.started": "2025-07-22T11:30:17.997636Z"
    },
    "tags": []
   },
   "outputs": [],
   "source": [
    "df = df.sort_values([\"subject_id\", \"hadm_id\", \"seq_num\"])\n",
    "df_clean = df.drop_duplicates(subset=[\"subject_id\", \"hadm_id\", \"category\"], keep=\"first\").copy()"
   ]
  },
  {
   "cell_type": "code",
   "execution_count": 15,
   "id": "e49c69be-4e31-4fb0-ad03-113004cec189",
   "metadata": {
    "execution": {
     "iopub.execute_input": "2025-07-22T11:30:25.425272Z",
     "iopub.status.busy": "2025-07-22T11:30:25.424436Z",
     "iopub.status.idle": "2025-07-22T11:30:48.967691Z",
     "shell.execute_reply": "2025-07-22T11:30:48.967009Z",
     "shell.execute_reply.started": "2025-07-22T11:30:25.425241Z"
    },
    "tags": []
   },
   "outputs": [],
   "source": [
    "df_nodup.to_csv(\"prepared_data.csv\")"
   ]
  }
 ],
 "metadata": {
  "kernelspec": {
   "display_name": "DataSphere Kernel",
   "language": "python",
   "name": "python3"
  },
  "language_info": {
   "codemirror_mode": {
    "name": "ipython",
    "version": 3
   },
   "file_extension": ".py",
   "mimetype": "text/x-python",
   "name": "python",
   "nbconvert_exporter": "python",
   "pygments_lexer": "ipython3",
   "version": "3.10.12"
  }
 },
 "nbformat": 4,
 "nbformat_minor": 5
}
