{
 "cells": [
  {
   "cell_type": "code",
   "execution_count": 1,
   "id": "2e775fbf",
   "metadata": {},
   "outputs": [
    {
     "name": "stderr",
     "output_type": "stream",
     "text": [
      "/Users/sofsen/miniconda3/envs/my_env/lib/python3.10/site-packages/tqdm/auto.py:21: TqdmWarning: IProgress not found. Please update jupyter and ipywidgets. See https://ipywidgets.readthedocs.io/en/stable/user_install.html\n",
      "  from .autonotebook import tqdm as notebook_tqdm\n"
     ]
    }
   ],
   "source": [
    "import numpy as np\n",
    "import pandas as pd, re, requests\n",
    "from itertools import combinations\n",
    "from scipy.sparse import dok_matrix\n",
    "import matplotlib.pyplot as plt\n",
    "import seaborn as sns\n",
    "import os\n",
    "import re\n",
    "from tqdm.auto import tqdm\n",
    "import seaborn as sns, matplotlib.pyplot as plt\n",
    "from sklearn.metrics import jaccard_score\n",
    "from sklearn.preprocessing import MultiLabelBinarizer"
   ]
  },
  {
   "cell_type": "code",
   "execution_count": 2,
   "id": "8c5d5709",
   "metadata": {},
   "outputs": [],
   "source": [
    "co_df = pd.read_csv(\"matrix/cat_co_matrix_counts.csv\") # сколько уникальных пациентов имели одновременно диагнозы i и j\n",
    "fraction_df = pd.read_csv(\"matrix/cat_co_matrix_fraction.csv\") # доля пациентов из всей выборки у которых одновременно были диагнозы i и j\n",
    "cond_df= pd.read_csv(\"matrix/cat_co_matrix_conditional_prob.csv\") # усл вероятность\n",
    "\n",
    "df = pd.read_csv('diagnoses_icd10.csv')"
   ]
  },
  {
   "cell_type": "code",
   "execution_count": null,
   "id": "515c3442",
   "metadata": {},
   "outputs": [],
   "source": [
    "# Jaccard Similarity -- посчитать насколько похожи диагнозы по набору пациентов, у которых они встречаются\n",
    "\n",
    "# df_unique = df[['subject_id', 'icd10_category']].drop_duplicates()\n",
    "# pivot = df_unique.groupby('subject_id')['icd10_category'].apply(set)\n",
    "\n",
    "# mlb = MultiLabelBinarizer()\n",
    "# binary_matrix = mlb.fit_transform(pivot)\n",
    "\n",
    "# from sklearn.metrics import pairwise_distances\n",
    "# jaccard_matrix = 1 - pairwise_distances(binary_matrix.T, metric='jaccard')\n",
    "\n",
    "# jaccard_df = pd.DataFrame(jaccard_matrix, index=mlb.classes_, columns=mlb.classes_)\n",
    "# jaccard_df.head()"
   ]
  },
  {
   "cell_type": "code",
   "execution_count": 5,
   "id": "fa360689",
   "metadata": {},
   "outputs": [],
   "source": [
    "df_unique = df[['subject_id', 'icd10_category']].drop_duplicates()\n",
    "pivot = df_unique.groupby('subject_id')['icd10_category'].apply(set)"
   ]
  },
  {
   "cell_type": "code",
   "execution_count": 7,
   "id": "b20afc80",
   "metadata": {},
   "outputs": [
    {
     "data": {
      "text/plain": [
       "1757"
      ]
     },
     "execution_count": 7,
     "metadata": {},
     "output_type": "execute_result"
    }
   ],
   "source": [
    "df['icd10_category'].nunique()"
   ]
  },
  {
   "cell_type": "code",
   "execution_count": null,
   "id": "99656198",
   "metadata": {},
   "outputs": [
    {
     "name": "stderr",
     "output_type": "stream",
     "text": [
      " 21%|██        | 361/1757 [8:20:04<31:17:12, 80.68s/it]   "
     ]
    }
   ],
   "source": [
    "mlb = MultiLabelBinarizer()\n",
    "binary_matrix = mlb.fit_transform(pivot)\n",
    "binary_dense = binary_matrix.astype(bool).T  # T: диагнозы как строки\n",
    "\n",
    "n = binary_dense.shape[0]\n",
    "jaccard_result = np.zeros((n, n))\n",
    "\n",
    "for i in tqdm(range(n)):\n",
    "    for j in range(i, n):\n",
    "        score = jaccard_score(binary_dense[i], binary_dense[j])\n",
    "        jaccard_result[i, j] = score\n",
    "        jaccard_result[j, i] = score  # симметрично\n",
    "\n",
    "# Формируем DataFrame\n",
    "jaccard_df = pd.DataFrame(jaccard_result, index=mlb.classes_, columns=mlb.classes_)\n"
   ]
  },
  {
   "cell_type": "code",
   "execution_count": null,
   "id": "c7472514",
   "metadata": {},
   "outputs": [],
   "source": [
    "jaccard_df.to_csv('stat/jaccard_g.csv')"
   ]
  },
  {
   "cell_type": "code",
   "execution_count": null,
   "id": "9978ecf3",
   "metadata": {},
   "outputs": [],
   "source": [
    "plt.figure(figsize=(15,12))\n",
    "sns.heatmap(jaccard_df, annot=False, cmap=\"viridis\")\n",
    "# plt.title(name, fontsize=20)\n",
    "# plt.xticks(rotation=90, fontsize=8)\n",
    "# plt.yticks(rotation=0, fontsize=8)\n",
    "plt.savefig(f'pics/jaccard.jpg', dpi=300, bbox_inches='tight')\n",
    "plt.tight_layout()\n",
    "plt.show()"
   ]
  },
  {
   "cell_type": "code",
   "execution_count": null,
   "id": "7a0b6696",
   "metadata": {},
   "outputs": [],
   "source": [
    "# PMI какие коды сильно информативны друг о друге (например, редкие, но часто встречающиеся вместе) - Pointwise Mutual Information\n",
    "\n",
    "total_patients = df['subject_id'].nunique()\n",
    "co_occurrence = cond_df * co_df.values.diagonal()[:, None]  # восстанавливаем N_{i,j}\n",
    "\n",
    "P_i = co_df.values.diagonal() / total_patients\n",
    "P_j = co_df.values.diagonal() / total_patients\n",
    "P_ij = co_occurrence / total_patients\n",
    "\n",
    "with np.errstate(divide='ignore'):\n",
    "    pmi = np.log2(P_ij / (P_i[:, None] * P_j[None, :]))\n",
    "\n",
    "pmi_df = pd.DataFrame(pmi, index=cond_df.index, columns=cond_df.columns)\n",
    "pmi_df.to_csv('stat/pmi_df_g.csv')\n"
   ]
  },
  {
   "cell_type": "code",
   "execution_count": null,
   "id": "772ae034",
   "metadata": {},
   "outputs": [],
   "source": [
    "# какие болезни предшествуют другим\n",
    "df_sorted = df.sort_values(['subject_id', 'admittime'])\n",
    "\n",
    "df_sorted['next_code'] = df_sorted.groupby('subject_id')['icd10_category'].shift(-1)\n",
    "df_sorted['next_time'] = df_sorted.groupby('subject_id')['admittime'].shift(-1)\n",
    "\n",
    "#  сколько раз диагноз i предшествовал диагнозу j\n",
    "df_transitions = df_sorted.dropna(subset=['icd10_category', 'next_code'])\n",
    "df_transitions = df_transitions[df_transitions['icd10_category'] != df_transitions['next_code']]\n",
    "\n",
    "transition_counts = df_transitions.groupby(['icd10_category', 'next_code']).size().reset_index(name='count')\n",
    "transition_counts.sort_values('count', ascending=False).head(10)\n",
    "transition_counts.to_csv('stat/transition_counts.csv')"
   ]
  }
 ],
 "metadata": {
  "kernelspec": {
   "display_name": "my_env",
   "language": "python",
   "name": "python3"
  },
  "language_info": {
   "codemirror_mode": {
    "name": "ipython",
    "version": 3
   },
   "file_extension": ".py",
   "mimetype": "text/x-python",
   "name": "python",
   "nbconvert_exporter": "python",
   "pygments_lexer": "ipython3",
   "version": "3.10.15"
  }
 },
 "nbformat": 4,
 "nbformat_minor": 5
}
