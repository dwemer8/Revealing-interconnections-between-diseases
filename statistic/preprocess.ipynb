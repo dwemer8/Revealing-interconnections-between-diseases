{
 "cells": [
  {
   "cell_type": "code",
   "execution_count": 2,
   "id": "9f358d9c",
   "metadata": {},
   "outputs": [],
   "source": [
    "import os\n",
    "import re\n",
    "import numpy as np\n",
    "import pandas as pd\n",
    "# from IPython.display import disp"
   ]
  },
  {
   "cell_type": "code",
   "execution_count": 5,
   "id": "c080a29b",
   "metadata": {},
   "outputs": [],
   "source": [
    "GEM = \"/Users/sofsen/Desktop/SMILES 2025/mimic-4/2018_I9gem.txt\""
   ]
  },
  {
   "cell_type": "code",
   "execution_count": 6,
   "id": "831cc55b",
   "metadata": {},
   "outputs": [],
   "source": [
    "dataset_dir = '../../mimic-4/physionet.org/files/mimiciv/3.1/'\n",
    "df = pd.read_csv(os.path.join(dataset_dir, \"hosp/diagnoses_icd.csv\"))\n",
    "admissions = pd.read_csv(os.path.join(dataset_dir, \"hosp/admissions.csv\"))\n",
    "df = pd.merge(\n",
    "    df,\n",
    "    admissions[['hadm_id', 'admittime', 'dischtime', 'deathtime']],\n",
    "    on='hadm_id'\n",
    ")"
   ]
  },
  {
   "cell_type": "code",
   "execution_count": 7,
   "id": "52f0854e",
   "metadata": {},
   "outputs": [],
   "source": [
    "def read_gem(path):\n",
    "    with open(path, \"r\") as f:\n",
    "        lines = f.readlines()\n",
    "\n",
    "        def processor(s):\n",
    "            s = [x for x in s.strip().split(\" \") if x != \"\"]\n",
    "            return {\n",
    "                \"icd9\": s[0],\n",
    "                \"icd10\": s[1],\n",
    "                \"flags\": s[2]\n",
    "            }\n",
    "\n",
    "    lines = [processor(line) for line in lines]\n",
    "    gem = pd.DataFrame.from_records(lines)\n",
    "    return gem"
   ]
  },
  {
   "cell_type": "code",
   "execution_count": 8,
   "id": "c1b7dac7",
   "metadata": {},
   "outputs": [],
   "source": [
    "gem = read_gem(os.path.join(GEM))"
   ]
  },
  {
   "cell_type": "code",
   "execution_count": 9,
   "id": "60b4ab7e",
   "metadata": {},
   "outputs": [],
   "source": [
    "def norm(code: str) -> str:\n",
    "    if pd.isna(code):\n",
    "        return None\n",
    "    code = re.sub(r'[\\s\\.]', '', str(code).upper())\n",
    "    if code.isdigit() and len(code) < 3:\n",
    "        code = code.zfill(3)\n",
    "    return code\n",
    "    \n",
    "def icd9_to_icd10_fuzzy(icd9: str, mapping: dict) -> str:\n",
    "    if icd9 in mapping:\n",
    "        return mapping[icd9]\n",
    "\n",
    "    code = icd9\n",
    "    while len(code) < 5:\n",
    "        code += \"0\"\n",
    "        if code in mapping:\n",
    "            return mapping[code]\n",
    "\n",
    "    desc = {k: v for k, v in mapping.items() if k.startswith(icd9)}\n",
    "    if desc:\n",
    "        for k in sorted(desc):\n",
    "            if k.endswith(\"0\"):\n",
    "                return desc[k]\n",
    "        return next(iter(desc.values()))\n",
    "    return None\n",
    "\n",
    "def icd9_to_icd10(\n",
    "    df: pd.DataFrame,\n",
    "    gem: pd.DataFrame,\n",
    "    df_icd_code_col:str=\"icd_code\",\n",
    "    df_icd_version_col:str=\"icd_version\", \n",
    "    gem_icd9_col=\"icd9\", \n",
    "    gem_icd10_col=\"icd10\"\n",
    ") -> pd.DataFrame:\n",
    "    '''\n",
    "    converts dataframe with \n",
    "    '''\n",
    "    print(\"Normalization...\")\n",
    "    gem[\"icd9_norm\"]  = gem[gem_icd9_col].apply(norm)\n",
    "    gem[\"icd10_norm\"] = gem[gem_icd10_col].apply(norm)\n",
    "    gem[\"flags\"]      = gem[\"flags\"].astype(str)\n",
    "    df[\"icd_code_norm\"] = df[df_icd_code_col].apply(norm)\n",
    "    print(\"ICD codes are normalized\")\n",
    "\n",
    "    print(\"Number of bad mappings:\", gem[\"flags\"].str[0].eq(\"7\").sum(), \"out of\", len(gem), \"let's through out them\")\n",
    "    gem_ok = gem[~gem[\"flags\"].str[0].eq(\"7\")]  \n",
    "    gem_ok[\"rank\"] = gem_ok[\"flags\"].str[0].astype(int)   \n",
    "    gem_ok = gem_ok.sort_values([\"icd9_norm\", \"rank\"])\n",
    "    MAP_9to10 = gem_ok.groupby(\"icd9_norm\")[\"icd10_norm\"].first().to_dict()\n",
    "    print(\"Mapping 9to10 is created\")\n",
    "    \n",
    "    def map_row(row):\n",
    "        if row[df_icd_version_col] == 10:\n",
    "            return row[\"icd_code_norm\"]\n",
    "        return icd9_to_icd10_fuzzy(row[\"icd_code_norm\"], MAP_9to10)\n",
    "    \n",
    "    print(\"Mapping started...\")\n",
    "    df[\"icd10_code\"] = df.apply(map_row, axis=1)\n",
    "    df.drop(columns=\"icd_code_norm\", inplace=True)\n",
    "    print(\"Mapping finished\")\n",
    "\n",
    "    n9  = (df[df_icd_version_col] == 9).sum()\n",
    "    nun = df[\"icd10_code\"].isna() & (df[df_icd_version_col] == 9)\n",
    "    print(f\"Не смаппилось ICD-9 кодов: {nun.sum()} из {n9}\")\n",
    "\n",
    "    return df"
   ]
  },
  {
   "cell_type": "code",
   "execution_count": 10,
   "id": "4f923aa1",
   "metadata": {},
   "outputs": [
    {
     "name": "stdout",
     "output_type": "stream",
     "text": [
      "Normalization...\n",
      "ICD codes are normalized\n",
      "Number of bad mappings: 0 out of 24860 let's through out them\n",
      "Mapping 9to10 is created\n",
      "Mapping started...\n",
      "Mapping finished\n",
      "Не смаппилось ICD-9 кодов: 0 из 2908741\n"
     ]
    }
   ],
   "source": [
    "df = icd9_to_icd10(df, gem)\n"
   ]
  },
  {
   "cell_type": "code",
   "execution_count": 11,
   "id": "3d23d5a8",
   "metadata": {},
   "outputs": [],
   "source": [
    "df[\"icd10_category\"] = df[\"icd10_code\"].str[:3]\n"
   ]
  },
  {
   "cell_type": "code",
   "execution_count": 12,
   "id": "4e684006",
   "metadata": {},
   "outputs": [],
   "source": [
    "df.to_csv(\"diagnoses_icd10.csv\")"
   ]
  },
  {
   "cell_type": "code",
   "execution_count": null,
   "id": "ad762580",
   "metadata": {},
   "outputs": [],
   "source": []
  }
 ],
 "metadata": {
  "kernelspec": {
   "display_name": "my_env",
   "language": "python",
   "name": "python3"
  },
  "language_info": {
   "codemirror_mode": {
    "name": "ipython",
    "version": 3
   },
   "file_extension": ".py",
   "mimetype": "text/x-python",
   "name": "python",
   "nbconvert_exporter": "python",
   "pygments_lexer": "ipython3",
   "version": "3.10.15"
  }
 },
 "nbformat": 4,
 "nbformat_minor": 5
}
